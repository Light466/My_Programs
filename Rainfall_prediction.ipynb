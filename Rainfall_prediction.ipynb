{
 "cells": [
  {
   "cell_type": "code",
   "execution_count": 1,
   "id": "4b9746c8-b989-4c85-97d6-dce94dea7e5b",
   "metadata": {
    "tags": []
   },
   "outputs": [],
   "source": [
    "# Import the libraries\n",
    "import warnings\n",
    "\n",
    "import math\n",
    "import numpy as np\n",
    "import pandas as pd\n",
    "import matplotlib.pyplot as plt\n",
    "import seaborn as sns\n",
    "from sklearn.preprocessing import StandardScaler\n",
    "from sklearn.linear_model import LinearRegression\n",
    "from sklearn.neural_network import MLPRegressor\n",
    "from sklearn.neighbors import KNeighborsRegressor\n",
    "from sklearn.linear_model import Ridge\n",
    "from sklearn.metrics import mean_absolute_error, mean_squared_error\n",
    "from sklearn.model_selection import train_test_split, cross_val_score\n",
    "%matplotlib inline\n",
    "\n",
    "warnings.simplefilter(action = \"ignore\", category = FutureWarning)\n",
    "\n",
    "# Load the clean version of the dataset\n",
    "# Assign to a dataframe\n",
    "# Perform feature selection:\n",
    "df_rainfall = pd.read_csv(\"austin_weather_clean.csv\")\n",
    "df_rainfall.drop(columns = [\"DewPointHighF\", \"DewPointLowF\"], inplace = True)\n",
    "\n",
    "# Remove outliers from the data;\n",
    "#'VisibilityHighMiles' column:\n",
    "low, high = df_rainfall[\"VisibilityHighMiles\"].quantile([0.01, 1])\n",
    "mask_visibilityH = df_rainfall[\"VisibilityHighMiles\"].between(low, high)\n",
    "#'SeaLevelPressureAvgInches' column:\n",
    "low, high = df_rainfall[\"SeaLevelPressureAvgInches\"].quantile([0.25, 1])\n",
    "mask_seaLevel = df_rainfall[\"SeaLevelPressureAvgInches\"].between(low, high)\n",
    "\n",
    "# Transform the dataframe:\n",
    "df_rainfall = df_rainfall[mask_visibilityH & mask_seaLevel]"
   ]
  },
  {
   "cell_type": "code",
   "execution_count": 2,
   "id": "a9ef81e3-bf82-4bc0-8eae-0be39ac33915",
   "metadata": {
    "tags": []
   },
   "outputs": [],
   "source": [
    "# The independent variables:\n",
    "input_ds = df_rainfall.drop(columns = [\"PrecipitationSumInches\", \"Unnamed: 0\"])\n",
    "# The dependent variable:\n",
    "output_ds = df_rainfall[\"PrecipitationSumInches\"]"
   ]
  },
  {
   "cell_type": "code",
   "execution_count": 3,
   "id": "afffea82-398b-4602-aa3e-8eff0a96413a",
   "metadata": {
    "tags": []
   },
   "outputs": [
    {
     "data": {
      "text/html": [
       "<div>\n",
       "<style scoped>\n",
       "    .dataframe tbody tr th:only-of-type {\n",
       "        vertical-align: middle;\n",
       "    }\n",
       "\n",
       "    .dataframe tbody tr th {\n",
       "        vertical-align: top;\n",
       "    }\n",
       "\n",
       "    .dataframe thead th {\n",
       "        text-align: right;\n",
       "    }\n",
       "</style>\n",
       "<table border=\"1\" class=\"dataframe\">\n",
       "  <thead>\n",
       "    <tr style=\"text-align: right;\">\n",
       "      <th></th>\n",
       "      <th>Unnamed: 0</th>\n",
       "      <th>TempHighF</th>\n",
       "      <th>TempAvgF</th>\n",
       "      <th>TempLowF</th>\n",
       "      <th>DewPointAvgF</th>\n",
       "      <th>HumidityHighPercent</th>\n",
       "      <th>HumidityAvgPercent</th>\n",
       "      <th>HumidityLowPercent</th>\n",
       "      <th>SeaLevelPressureAvgInches</th>\n",
       "      <th>VisibilityHighMiles</th>\n",
       "      <th>VisibilityAvgMiles</th>\n",
       "      <th>VisibilityLowMiles</th>\n",
       "      <th>WindHighMPH</th>\n",
       "      <th>WindAvgMPH</th>\n",
       "      <th>WindGustMPH</th>\n",
       "      <th>PrecipitationSumInches</th>\n",
       "    </tr>\n",
       "  </thead>\n",
       "  <tbody>\n",
       "    <tr>\n",
       "      <th>1</th>\n",
       "      <td>1</td>\n",
       "      <td>56</td>\n",
       "      <td>48</td>\n",
       "      <td>39</td>\n",
       "      <td>36</td>\n",
       "      <td>93</td>\n",
       "      <td>68</td>\n",
       "      <td>43</td>\n",
       "      <td>30.13</td>\n",
       "      <td>10</td>\n",
       "      <td>10</td>\n",
       "      <td>5</td>\n",
       "      <td>16</td>\n",
       "      <td>6</td>\n",
       "      <td>25</td>\n",
       "      <td>0.0</td>\n",
       "    </tr>\n",
       "    <tr>\n",
       "      <th>2</th>\n",
       "      <td>2</td>\n",
       "      <td>58</td>\n",
       "      <td>45</td>\n",
       "      <td>32</td>\n",
       "      <td>27</td>\n",
       "      <td>76</td>\n",
       "      <td>52</td>\n",
       "      <td>27</td>\n",
       "      <td>30.49</td>\n",
       "      <td>10</td>\n",
       "      <td>10</td>\n",
       "      <td>10</td>\n",
       "      <td>8</td>\n",
       "      <td>3</td>\n",
       "      <td>12</td>\n",
       "      <td>0.0</td>\n",
       "    </tr>\n",
       "    <tr>\n",
       "      <th>3</th>\n",
       "      <td>3</td>\n",
       "      <td>61</td>\n",
       "      <td>46</td>\n",
       "      <td>31</td>\n",
       "      <td>28</td>\n",
       "      <td>89</td>\n",
       "      <td>56</td>\n",
       "      <td>22</td>\n",
       "      <td>30.45</td>\n",
       "      <td>10</td>\n",
       "      <td>10</td>\n",
       "      <td>7</td>\n",
       "      <td>12</td>\n",
       "      <td>4</td>\n",
       "      <td>20</td>\n",
       "      <td>0.0</td>\n",
       "    </tr>\n",
       "    <tr>\n",
       "      <th>4</th>\n",
       "      <td>4</td>\n",
       "      <td>58</td>\n",
       "      <td>50</td>\n",
       "      <td>41</td>\n",
       "      <td>40</td>\n",
       "      <td>86</td>\n",
       "      <td>71</td>\n",
       "      <td>56</td>\n",
       "      <td>30.33</td>\n",
       "      <td>10</td>\n",
       "      <td>10</td>\n",
       "      <td>7</td>\n",
       "      <td>10</td>\n",
       "      <td>2</td>\n",
       "      <td>16</td>\n",
       "      <td>0.0</td>\n",
       "    </tr>\n",
       "    <tr>\n",
       "      <th>5</th>\n",
       "      <td>5</td>\n",
       "      <td>57</td>\n",
       "      <td>48</td>\n",
       "      <td>39</td>\n",
       "      <td>36</td>\n",
       "      <td>79</td>\n",
       "      <td>63</td>\n",
       "      <td>47</td>\n",
       "      <td>30.40</td>\n",
       "      <td>10</td>\n",
       "      <td>9</td>\n",
       "      <td>7</td>\n",
       "      <td>12</td>\n",
       "      <td>3</td>\n",
       "      <td>17</td>\n",
       "      <td>0.0</td>\n",
       "    </tr>\n",
       "    <tr>\n",
       "      <th>6</th>\n",
       "      <td>6</td>\n",
       "      <td>60</td>\n",
       "      <td>53</td>\n",
       "      <td>45</td>\n",
       "      <td>39</td>\n",
       "      <td>83</td>\n",
       "      <td>65</td>\n",
       "      <td>47</td>\n",
       "      <td>30.39</td>\n",
       "      <td>10</td>\n",
       "      <td>9</td>\n",
       "      <td>7</td>\n",
       "      <td>7</td>\n",
       "      <td>1</td>\n",
       "      <td>11</td>\n",
       "      <td>0.0</td>\n",
       "    </tr>\n",
       "    <tr>\n",
       "      <th>7</th>\n",
       "      <td>7</td>\n",
       "      <td>62</td>\n",
       "      <td>51</td>\n",
       "      <td>40</td>\n",
       "      <td>39</td>\n",
       "      <td>92</td>\n",
       "      <td>64</td>\n",
       "      <td>36</td>\n",
       "      <td>30.17</td>\n",
       "      <td>10</td>\n",
       "      <td>10</td>\n",
       "      <td>7</td>\n",
       "      <td>10</td>\n",
       "      <td>2</td>\n",
       "      <td>14</td>\n",
       "      <td>0.0</td>\n",
       "    </tr>\n",
       "    <tr>\n",
       "      <th>8</th>\n",
       "      <td>8</td>\n",
       "      <td>64</td>\n",
       "      <td>50</td>\n",
       "      <td>36</td>\n",
       "      <td>41</td>\n",
       "      <td>92</td>\n",
       "      <td>76</td>\n",
       "      <td>60</td>\n",
       "      <td>30.10</td>\n",
       "      <td>10</td>\n",
       "      <td>10</td>\n",
       "      <td>4</td>\n",
       "      <td>17</td>\n",
       "      <td>5</td>\n",
       "      <td>24</td>\n",
       "      <td>0.0</td>\n",
       "    </tr>\n",
       "    <tr>\n",
       "      <th>9</th>\n",
       "      <td>9</td>\n",
       "      <td>44</td>\n",
       "      <td>40</td>\n",
       "      <td>35</td>\n",
       "      <td>26</td>\n",
       "      <td>75</td>\n",
       "      <td>60</td>\n",
       "      <td>45</td>\n",
       "      <td>30.33</td>\n",
       "      <td>10</td>\n",
       "      <td>10</td>\n",
       "      <td>10</td>\n",
       "      <td>13</td>\n",
       "      <td>5</td>\n",
       "      <td>21</td>\n",
       "      <td>0.0</td>\n",
       "    </tr>\n",
       "    <tr>\n",
       "      <th>10</th>\n",
       "      <td>10</td>\n",
       "      <td>55</td>\n",
       "      <td>46</td>\n",
       "      <td>36</td>\n",
       "      <td>28</td>\n",
       "      <td>76</td>\n",
       "      <td>54</td>\n",
       "      <td>32</td>\n",
       "      <td>30.39</td>\n",
       "      <td>10</td>\n",
       "      <td>10</td>\n",
       "      <td>10</td>\n",
       "      <td>8</td>\n",
       "      <td>1</td>\n",
       "      <td>12</td>\n",
       "      <td>0.0</td>\n",
       "    </tr>\n",
       "  </tbody>\n",
       "</table>\n",
       "</div>"
      ],
      "text/plain": [
       "    Unnamed: 0  TempHighF  TempAvgF  TempLowF  DewPointAvgF  \\\n",
       "1            1         56        48        39            36   \n",
       "2            2         58        45        32            27   \n",
       "3            3         61        46        31            28   \n",
       "4            4         58        50        41            40   \n",
       "5            5         57        48        39            36   \n",
       "6            6         60        53        45            39   \n",
       "7            7         62        51        40            39   \n",
       "8            8         64        50        36            41   \n",
       "9            9         44        40        35            26   \n",
       "10          10         55        46        36            28   \n",
       "\n",
       "    HumidityHighPercent  HumidityAvgPercent  HumidityLowPercent  \\\n",
       "1                    93                  68                  43   \n",
       "2                    76                  52                  27   \n",
       "3                    89                  56                  22   \n",
       "4                    86                  71                  56   \n",
       "5                    79                  63                  47   \n",
       "6                    83                  65                  47   \n",
       "7                    92                  64                  36   \n",
       "8                    92                  76                  60   \n",
       "9                    75                  60                  45   \n",
       "10                   76                  54                  32   \n",
       "\n",
       "    SeaLevelPressureAvgInches  VisibilityHighMiles  VisibilityAvgMiles  \\\n",
       "1                       30.13                   10                  10   \n",
       "2                       30.49                   10                  10   \n",
       "3                       30.45                   10                  10   \n",
       "4                       30.33                   10                  10   \n",
       "5                       30.40                   10                   9   \n",
       "6                       30.39                   10                   9   \n",
       "7                       30.17                   10                  10   \n",
       "8                       30.10                   10                  10   \n",
       "9                       30.33                   10                  10   \n",
       "10                      30.39                   10                  10   \n",
       "\n",
       "    VisibilityLowMiles  WindHighMPH  WindAvgMPH  WindGustMPH  \\\n",
       "1                    5           16           6           25   \n",
       "2                   10            8           3           12   \n",
       "3                    7           12           4           20   \n",
       "4                    7           10           2           16   \n",
       "5                    7           12           3           17   \n",
       "6                    7            7           1           11   \n",
       "7                    7           10           2           14   \n",
       "8                    4           17           5           24   \n",
       "9                   10           13           5           21   \n",
       "10                  10            8           1           12   \n",
       "\n",
       "    PrecipitationSumInches  \n",
       "1                      0.0  \n",
       "2                      0.0  \n",
       "3                      0.0  \n",
       "4                      0.0  \n",
       "5                      0.0  \n",
       "6                      0.0  \n",
       "7                      0.0  \n",
       "8                      0.0  \n",
       "9                      0.0  \n",
       "10                     0.0  "
      ]
     },
     "execution_count": 3,
     "metadata": {},
     "output_type": "execute_result"
    }
   ],
   "source": [
    "# Explore the dataframe; the first 10 rows\n",
    "df_rainfall.head(10)"
   ]
  },
  {
   "cell_type": "code",
   "execution_count": 4,
   "id": "65c713ca-e232-4353-bb8a-a8c2b1d2958c",
   "metadata": {
    "tags": []
   },
   "outputs": [
    {
     "data": {
      "text/html": [
       "<div>\n",
       "<style scoped>\n",
       "    .dataframe tbody tr th:only-of-type {\n",
       "        vertical-align: middle;\n",
       "    }\n",
       "\n",
       "    .dataframe tbody tr th {\n",
       "        vertical-align: top;\n",
       "    }\n",
       "\n",
       "    .dataframe thead th {\n",
       "        text-align: right;\n",
       "    }\n",
       "</style>\n",
       "<table border=\"1\" class=\"dataframe\">\n",
       "  <thead>\n",
       "    <tr style=\"text-align: right;\">\n",
       "      <th></th>\n",
       "      <th>Unnamed: 0</th>\n",
       "      <th>TempHighF</th>\n",
       "      <th>TempAvgF</th>\n",
       "      <th>TempLowF</th>\n",
       "      <th>DewPointAvgF</th>\n",
       "      <th>HumidityHighPercent</th>\n",
       "      <th>HumidityAvgPercent</th>\n",
       "      <th>HumidityLowPercent</th>\n",
       "      <th>SeaLevelPressureAvgInches</th>\n",
       "      <th>VisibilityHighMiles</th>\n",
       "      <th>VisibilityAvgMiles</th>\n",
       "      <th>VisibilityLowMiles</th>\n",
       "      <th>WindHighMPH</th>\n",
       "      <th>WindAvgMPH</th>\n",
       "      <th>WindGustMPH</th>\n",
       "      <th>PrecipitationSumInches</th>\n",
       "    </tr>\n",
       "  </thead>\n",
       "  <tbody>\n",
       "    <tr>\n",
       "      <th>1305</th>\n",
       "      <td>1305</td>\n",
       "      <td>100</td>\n",
       "      <td>88</td>\n",
       "      <td>76</td>\n",
       "      <td>70</td>\n",
       "      <td>88</td>\n",
       "      <td>61</td>\n",
       "      <td>33</td>\n",
       "      <td>29.98</td>\n",
       "      <td>10</td>\n",
       "      <td>10</td>\n",
       "      <td>10</td>\n",
       "      <td>14</td>\n",
       "      <td>5</td>\n",
       "      <td>20</td>\n",
       "      <td>0.00</td>\n",
       "    </tr>\n",
       "    <tr>\n",
       "      <th>1306</th>\n",
       "      <td>1306</td>\n",
       "      <td>101</td>\n",
       "      <td>89</td>\n",
       "      <td>77</td>\n",
       "      <td>70</td>\n",
       "      <td>88</td>\n",
       "      <td>60</td>\n",
       "      <td>31</td>\n",
       "      <td>30.07</td>\n",
       "      <td>10</td>\n",
       "      <td>10</td>\n",
       "      <td>10</td>\n",
       "      <td>18</td>\n",
       "      <td>5</td>\n",
       "      <td>29</td>\n",
       "      <td>0.00</td>\n",
       "    </tr>\n",
       "    <tr>\n",
       "      <th>1307</th>\n",
       "      <td>1307</td>\n",
       "      <td>103</td>\n",
       "      <td>90</td>\n",
       "      <td>77</td>\n",
       "      <td>69</td>\n",
       "      <td>85</td>\n",
       "      <td>56</td>\n",
       "      <td>27</td>\n",
       "      <td>30.03</td>\n",
       "      <td>10</td>\n",
       "      <td>10</td>\n",
       "      <td>10</td>\n",
       "      <td>14</td>\n",
       "      <td>5</td>\n",
       "      <td>22</td>\n",
       "      <td>0.00</td>\n",
       "    </tr>\n",
       "    <tr>\n",
       "      <th>1308</th>\n",
       "      <td>1308</td>\n",
       "      <td>104</td>\n",
       "      <td>91</td>\n",
       "      <td>77</td>\n",
       "      <td>68</td>\n",
       "      <td>85</td>\n",
       "      <td>56</td>\n",
       "      <td>27</td>\n",
       "      <td>29.95</td>\n",
       "      <td>10</td>\n",
       "      <td>10</td>\n",
       "      <td>10</td>\n",
       "      <td>14</td>\n",
       "      <td>5</td>\n",
       "      <td>24</td>\n",
       "      <td>0.00</td>\n",
       "    </tr>\n",
       "    <tr>\n",
       "      <th>1311</th>\n",
       "      <td>1311</td>\n",
       "      <td>102</td>\n",
       "      <td>89</td>\n",
       "      <td>76</td>\n",
       "      <td>71</td>\n",
       "      <td>91</td>\n",
       "      <td>60</td>\n",
       "      <td>29</td>\n",
       "      <td>29.95</td>\n",
       "      <td>10</td>\n",
       "      <td>10</td>\n",
       "      <td>9</td>\n",
       "      <td>13</td>\n",
       "      <td>3</td>\n",
       "      <td>19</td>\n",
       "      <td>0.01</td>\n",
       "    </tr>\n",
       "    <tr>\n",
       "      <th>1312</th>\n",
       "      <td>1312</td>\n",
       "      <td>103</td>\n",
       "      <td>91</td>\n",
       "      <td>78</td>\n",
       "      <td>71</td>\n",
       "      <td>91</td>\n",
       "      <td>61</td>\n",
       "      <td>31</td>\n",
       "      <td>30.03</td>\n",
       "      <td>10</td>\n",
       "      <td>10</td>\n",
       "      <td>9</td>\n",
       "      <td>15</td>\n",
       "      <td>7</td>\n",
       "      <td>24</td>\n",
       "      <td>0.00</td>\n",
       "    </tr>\n",
       "    <tr>\n",
       "      <th>1313</th>\n",
       "      <td>1313</td>\n",
       "      <td>103</td>\n",
       "      <td>91</td>\n",
       "      <td>78</td>\n",
       "      <td>70</td>\n",
       "      <td>91</td>\n",
       "      <td>58</td>\n",
       "      <td>25</td>\n",
       "      <td>30.03</td>\n",
       "      <td>10</td>\n",
       "      <td>10</td>\n",
       "      <td>10</td>\n",
       "      <td>15</td>\n",
       "      <td>6</td>\n",
       "      <td>27</td>\n",
       "      <td>0.00</td>\n",
       "    </tr>\n",
       "    <tr>\n",
       "      <th>1314</th>\n",
       "      <td>1314</td>\n",
       "      <td>103</td>\n",
       "      <td>89</td>\n",
       "      <td>75</td>\n",
       "      <td>67</td>\n",
       "      <td>82</td>\n",
       "      <td>54</td>\n",
       "      <td>25</td>\n",
       "      <td>29.97</td>\n",
       "      <td>10</td>\n",
       "      <td>10</td>\n",
       "      <td>10</td>\n",
       "      <td>12</td>\n",
       "      <td>5</td>\n",
       "      <td>21</td>\n",
       "      <td>0.00</td>\n",
       "    </tr>\n",
       "    <tr>\n",
       "      <th>1317</th>\n",
       "      <td>1317</td>\n",
       "      <td>106</td>\n",
       "      <td>93</td>\n",
       "      <td>79</td>\n",
       "      <td>68</td>\n",
       "      <td>69</td>\n",
       "      <td>48</td>\n",
       "      <td>27</td>\n",
       "      <td>29.91</td>\n",
       "      <td>10</td>\n",
       "      <td>10</td>\n",
       "      <td>10</td>\n",
       "      <td>13</td>\n",
       "      <td>4</td>\n",
       "      <td>20</td>\n",
       "      <td>0.00</td>\n",
       "    </tr>\n",
       "    <tr>\n",
       "      <th>1318</th>\n",
       "      <td>1318</td>\n",
       "      <td>99</td>\n",
       "      <td>88</td>\n",
       "      <td>77</td>\n",
       "      <td>61</td>\n",
       "      <td>64</td>\n",
       "      <td>43</td>\n",
       "      <td>22</td>\n",
       "      <td>29.97</td>\n",
       "      <td>10</td>\n",
       "      <td>10</td>\n",
       "      <td>10</td>\n",
       "      <td>12</td>\n",
       "      <td>4</td>\n",
       "      <td>20</td>\n",
       "      <td>0.00</td>\n",
       "    </tr>\n",
       "  </tbody>\n",
       "</table>\n",
       "</div>"
      ],
      "text/plain": [
       "      Unnamed: 0  TempHighF  TempAvgF  TempLowF  DewPointAvgF  \\\n",
       "1305        1305        100        88        76            70   \n",
       "1306        1306        101        89        77            70   \n",
       "1307        1307        103        90        77            69   \n",
       "1308        1308        104        91        77            68   \n",
       "1311        1311        102        89        76            71   \n",
       "1312        1312        103        91        78            71   \n",
       "1313        1313        103        91        78            70   \n",
       "1314        1314        103        89        75            67   \n",
       "1317        1317        106        93        79            68   \n",
       "1318        1318         99        88        77            61   \n",
       "\n",
       "      HumidityHighPercent  HumidityAvgPercent  HumidityLowPercent  \\\n",
       "1305                   88                  61                  33   \n",
       "1306                   88                  60                  31   \n",
       "1307                   85                  56                  27   \n",
       "1308                   85                  56                  27   \n",
       "1311                   91                  60                  29   \n",
       "1312                   91                  61                  31   \n",
       "1313                   91                  58                  25   \n",
       "1314                   82                  54                  25   \n",
       "1317                   69                  48                  27   \n",
       "1318                   64                  43                  22   \n",
       "\n",
       "      SeaLevelPressureAvgInches  VisibilityHighMiles  VisibilityAvgMiles  \\\n",
       "1305                      29.98                   10                  10   \n",
       "1306                      30.07                   10                  10   \n",
       "1307                      30.03                   10                  10   \n",
       "1308                      29.95                   10                  10   \n",
       "1311                      29.95                   10                  10   \n",
       "1312                      30.03                   10                  10   \n",
       "1313                      30.03                   10                  10   \n",
       "1314                      29.97                   10                  10   \n",
       "1317                      29.91                   10                  10   \n",
       "1318                      29.97                   10                  10   \n",
       "\n",
       "      VisibilityLowMiles  WindHighMPH  WindAvgMPH  WindGustMPH  \\\n",
       "1305                  10           14           5           20   \n",
       "1306                  10           18           5           29   \n",
       "1307                  10           14           5           22   \n",
       "1308                  10           14           5           24   \n",
       "1311                   9           13           3           19   \n",
       "1312                   9           15           7           24   \n",
       "1313                  10           15           6           27   \n",
       "1314                  10           12           5           21   \n",
       "1317                  10           13           4           20   \n",
       "1318                  10           12           4           20   \n",
       "\n",
       "      PrecipitationSumInches  \n",
       "1305                    0.00  \n",
       "1306                    0.00  \n",
       "1307                    0.00  \n",
       "1308                    0.00  \n",
       "1311                    0.01  \n",
       "1312                    0.00  \n",
       "1313                    0.00  \n",
       "1314                    0.00  \n",
       "1317                    0.00  \n",
       "1318                    0.00  "
      ]
     },
     "execution_count": 4,
     "metadata": {},
     "output_type": "execute_result"
    }
   ],
   "source": [
    "# Display the last 10 rows of the dataframe:\n",
    "df_rainfall.tail(10)"
   ]
  },
  {
   "cell_type": "code",
   "execution_count": 5,
   "id": "3dfde842-b2a1-474f-95fe-63e26e85e021",
   "metadata": {
    "tags": []
   },
   "outputs": [],
   "source": [
    "# Remove the unwanted column('Unnamed: 0):\n",
    "df_rainfall.drop(columns = [\"Unnamed: 0\"], inplace = True)"
   ]
  },
  {
   "cell_type": "code",
   "execution_count": 6,
   "id": "b742e628-5ca6-4690-99c0-37de55d75530",
   "metadata": {
    "tags": []
   },
   "outputs": [
    {
     "name": "stdout",
     "output_type": "stream",
     "text": [
      "<class 'pandas.core.frame.DataFrame'>\n",
      "Int64Index: 1008 entries, 1 to 1318\n",
      "Data columns (total 15 columns):\n",
      " #   Column                     Non-Null Count  Dtype  \n",
      "---  ------                     --------------  -----  \n",
      " 0   TempHighF                  1008 non-null   int64  \n",
      " 1   TempAvgF                   1008 non-null   int64  \n",
      " 2   TempLowF                   1008 non-null   int64  \n",
      " 3   DewPointAvgF               1008 non-null   int64  \n",
      " 4   HumidityHighPercent        1008 non-null   int64  \n",
      " 5   HumidityAvgPercent         1008 non-null   int64  \n",
      " 6   HumidityLowPercent         1008 non-null   int64  \n",
      " 7   SeaLevelPressureAvgInches  1008 non-null   float64\n",
      " 8   VisibilityHighMiles        1008 non-null   int64  \n",
      " 9   VisibilityAvgMiles         1008 non-null   int64  \n",
      " 10  VisibilityLowMiles         1008 non-null   int64  \n",
      " 11  WindHighMPH                1008 non-null   int64  \n",
      " 12  WindAvgMPH                 1008 non-null   int64  \n",
      " 13  WindGustMPH                1008 non-null   int64  \n",
      " 14  PrecipitationSumInches     1008 non-null   float64\n",
      "dtypes: float64(2), int64(13)\n",
      "memory usage: 126.0 KB\n"
     ]
    }
   ],
   "source": [
    "# An overview of the dataframe:\n",
    "df_rainfall.info()"
   ]
  },
  {
   "cell_type": "code",
   "execution_count": 7,
   "id": "370771f8-5b5e-4ac4-ae37-1dc1f5675dd6",
   "metadata": {
    "tags": []
   },
   "outputs": [
    {
     "data": {
      "text/html": [
       "<div>\n",
       "<style scoped>\n",
       "    .dataframe tbody tr th:only-of-type {\n",
       "        vertical-align: middle;\n",
       "    }\n",
       "\n",
       "    .dataframe tbody tr th {\n",
       "        vertical-align: top;\n",
       "    }\n",
       "\n",
       "    .dataframe thead th {\n",
       "        text-align: right;\n",
       "    }\n",
       "</style>\n",
       "<table border=\"1\" class=\"dataframe\">\n",
       "  <thead>\n",
       "    <tr style=\"text-align: right;\">\n",
       "      <th></th>\n",
       "      <th>TempHighF</th>\n",
       "      <th>TempAvgF</th>\n",
       "      <th>TempLowF</th>\n",
       "      <th>DewPointAvgF</th>\n",
       "      <th>HumidityHighPercent</th>\n",
       "      <th>HumidityAvgPercent</th>\n",
       "      <th>HumidityLowPercent</th>\n",
       "      <th>SeaLevelPressureAvgInches</th>\n",
       "      <th>VisibilityHighMiles</th>\n",
       "      <th>VisibilityAvgMiles</th>\n",
       "      <th>VisibilityLowMiles</th>\n",
       "      <th>WindHighMPH</th>\n",
       "      <th>WindAvgMPH</th>\n",
       "      <th>WindGustMPH</th>\n",
       "      <th>PrecipitationSumInches</th>\n",
       "    </tr>\n",
       "  </thead>\n",
       "  <tbody>\n",
       "    <tr>\n",
       "      <th>1</th>\n",
       "      <td>56</td>\n",
       "      <td>48</td>\n",
       "      <td>39</td>\n",
       "      <td>36</td>\n",
       "      <td>93</td>\n",
       "      <td>68</td>\n",
       "      <td>43</td>\n",
       "      <td>30.13</td>\n",
       "      <td>10</td>\n",
       "      <td>10</td>\n",
       "      <td>5</td>\n",
       "      <td>16</td>\n",
       "      <td>6</td>\n",
       "      <td>25</td>\n",
       "      <td>0.0</td>\n",
       "    </tr>\n",
       "    <tr>\n",
       "      <th>2</th>\n",
       "      <td>58</td>\n",
       "      <td>45</td>\n",
       "      <td>32</td>\n",
       "      <td>27</td>\n",
       "      <td>76</td>\n",
       "      <td>52</td>\n",
       "      <td>27</td>\n",
       "      <td>30.49</td>\n",
       "      <td>10</td>\n",
       "      <td>10</td>\n",
       "      <td>10</td>\n",
       "      <td>8</td>\n",
       "      <td>3</td>\n",
       "      <td>12</td>\n",
       "      <td>0.0</td>\n",
       "    </tr>\n",
       "    <tr>\n",
       "      <th>3</th>\n",
       "      <td>61</td>\n",
       "      <td>46</td>\n",
       "      <td>31</td>\n",
       "      <td>28</td>\n",
       "      <td>89</td>\n",
       "      <td>56</td>\n",
       "      <td>22</td>\n",
       "      <td>30.45</td>\n",
       "      <td>10</td>\n",
       "      <td>10</td>\n",
       "      <td>7</td>\n",
       "      <td>12</td>\n",
       "      <td>4</td>\n",
       "      <td>20</td>\n",
       "      <td>0.0</td>\n",
       "    </tr>\n",
       "    <tr>\n",
       "      <th>4</th>\n",
       "      <td>58</td>\n",
       "      <td>50</td>\n",
       "      <td>41</td>\n",
       "      <td>40</td>\n",
       "      <td>86</td>\n",
       "      <td>71</td>\n",
       "      <td>56</td>\n",
       "      <td>30.33</td>\n",
       "      <td>10</td>\n",
       "      <td>10</td>\n",
       "      <td>7</td>\n",
       "      <td>10</td>\n",
       "      <td>2</td>\n",
       "      <td>16</td>\n",
       "      <td>0.0</td>\n",
       "    </tr>\n",
       "    <tr>\n",
       "      <th>5</th>\n",
       "      <td>57</td>\n",
       "      <td>48</td>\n",
       "      <td>39</td>\n",
       "      <td>36</td>\n",
       "      <td>79</td>\n",
       "      <td>63</td>\n",
       "      <td>47</td>\n",
       "      <td>30.40</td>\n",
       "      <td>10</td>\n",
       "      <td>9</td>\n",
       "      <td>7</td>\n",
       "      <td>12</td>\n",
       "      <td>3</td>\n",
       "      <td>17</td>\n",
       "      <td>0.0</td>\n",
       "    </tr>\n",
       "  </tbody>\n",
       "</table>\n",
       "</div>"
      ],
      "text/plain": [
       "   TempHighF  TempAvgF  TempLowF  DewPointAvgF  HumidityHighPercent  \\\n",
       "1         56        48        39            36                   93   \n",
       "2         58        45        32            27                   76   \n",
       "3         61        46        31            28                   89   \n",
       "4         58        50        41            40                   86   \n",
       "5         57        48        39            36                   79   \n",
       "\n",
       "   HumidityAvgPercent  HumidityLowPercent  SeaLevelPressureAvgInches  \\\n",
       "1                  68                  43                      30.13   \n",
       "2                  52                  27                      30.49   \n",
       "3                  56                  22                      30.45   \n",
       "4                  71                  56                      30.33   \n",
       "5                  63                  47                      30.40   \n",
       "\n",
       "   VisibilityHighMiles  VisibilityAvgMiles  VisibilityLowMiles  WindHighMPH  \\\n",
       "1                   10                  10                   5           16   \n",
       "2                   10                  10                  10            8   \n",
       "3                   10                  10                   7           12   \n",
       "4                   10                  10                   7           10   \n",
       "5                   10                   9                   7           12   \n",
       "\n",
       "   WindAvgMPH  WindGustMPH  PrecipitationSumInches  \n",
       "1           6           25                     0.0  \n",
       "2           3           12                     0.0  \n",
       "3           4           20                     0.0  \n",
       "4           2           16                     0.0  \n",
       "5           3           17                     0.0  "
      ]
     },
     "execution_count": 7,
     "metadata": {},
     "output_type": "execute_result"
    }
   ],
   "source": [
    "df_rainfall.head()"
   ]
  },
  {
   "cell_type": "code",
   "execution_count": 8,
   "id": "d0340f87-adb9-4a76-9e5a-43dba5b8dd65",
   "metadata": {
    "tags": []
   },
   "outputs": [
    {
     "data": {
      "text/html": [
       "<div>\n",
       "<style scoped>\n",
       "    .dataframe tbody tr th:only-of-type {\n",
       "        vertical-align: middle;\n",
       "    }\n",
       "\n",
       "    .dataframe tbody tr th {\n",
       "        vertical-align: top;\n",
       "    }\n",
       "\n",
       "    .dataframe thead th {\n",
       "        text-align: right;\n",
       "    }\n",
       "</style>\n",
       "<table border=\"1\" class=\"dataframe\">\n",
       "  <thead>\n",
       "    <tr style=\"text-align: right;\">\n",
       "      <th></th>\n",
       "      <th>TempHighF</th>\n",
       "      <th>TempAvgF</th>\n",
       "      <th>TempLowF</th>\n",
       "      <th>DewPointAvgF</th>\n",
       "      <th>HumidityHighPercent</th>\n",
       "      <th>HumidityAvgPercent</th>\n",
       "      <th>HumidityLowPercent</th>\n",
       "      <th>SeaLevelPressureAvgInches</th>\n",
       "      <th>VisibilityHighMiles</th>\n",
       "      <th>VisibilityAvgMiles</th>\n",
       "      <th>VisibilityLowMiles</th>\n",
       "      <th>WindHighMPH</th>\n",
       "      <th>WindAvgMPH</th>\n",
       "      <th>WindGustMPH</th>\n",
       "      <th>PrecipitationSumInches</th>\n",
       "    </tr>\n",
       "  </thead>\n",
       "  <tbody>\n",
       "    <tr>\n",
       "      <th>1312</th>\n",
       "      <td>103</td>\n",
       "      <td>91</td>\n",
       "      <td>78</td>\n",
       "      <td>71</td>\n",
       "      <td>91</td>\n",
       "      <td>61</td>\n",
       "      <td>31</td>\n",
       "      <td>30.03</td>\n",
       "      <td>10</td>\n",
       "      <td>10</td>\n",
       "      <td>9</td>\n",
       "      <td>15</td>\n",
       "      <td>7</td>\n",
       "      <td>24</td>\n",
       "      <td>0.0</td>\n",
       "    </tr>\n",
       "    <tr>\n",
       "      <th>1313</th>\n",
       "      <td>103</td>\n",
       "      <td>91</td>\n",
       "      <td>78</td>\n",
       "      <td>70</td>\n",
       "      <td>91</td>\n",
       "      <td>58</td>\n",
       "      <td>25</td>\n",
       "      <td>30.03</td>\n",
       "      <td>10</td>\n",
       "      <td>10</td>\n",
       "      <td>10</td>\n",
       "      <td>15</td>\n",
       "      <td>6</td>\n",
       "      <td>27</td>\n",
       "      <td>0.0</td>\n",
       "    </tr>\n",
       "    <tr>\n",
       "      <th>1314</th>\n",
       "      <td>103</td>\n",
       "      <td>89</td>\n",
       "      <td>75</td>\n",
       "      <td>67</td>\n",
       "      <td>82</td>\n",
       "      <td>54</td>\n",
       "      <td>25</td>\n",
       "      <td>29.97</td>\n",
       "      <td>10</td>\n",
       "      <td>10</td>\n",
       "      <td>10</td>\n",
       "      <td>12</td>\n",
       "      <td>5</td>\n",
       "      <td>21</td>\n",
       "      <td>0.0</td>\n",
       "    </tr>\n",
       "    <tr>\n",
       "      <th>1317</th>\n",
       "      <td>106</td>\n",
       "      <td>93</td>\n",
       "      <td>79</td>\n",
       "      <td>68</td>\n",
       "      <td>69</td>\n",
       "      <td>48</td>\n",
       "      <td>27</td>\n",
       "      <td>29.91</td>\n",
       "      <td>10</td>\n",
       "      <td>10</td>\n",
       "      <td>10</td>\n",
       "      <td>13</td>\n",
       "      <td>4</td>\n",
       "      <td>20</td>\n",
       "      <td>0.0</td>\n",
       "    </tr>\n",
       "    <tr>\n",
       "      <th>1318</th>\n",
       "      <td>99</td>\n",
       "      <td>88</td>\n",
       "      <td>77</td>\n",
       "      <td>61</td>\n",
       "      <td>64</td>\n",
       "      <td>43</td>\n",
       "      <td>22</td>\n",
       "      <td>29.97</td>\n",
       "      <td>10</td>\n",
       "      <td>10</td>\n",
       "      <td>10</td>\n",
       "      <td>12</td>\n",
       "      <td>4</td>\n",
       "      <td>20</td>\n",
       "      <td>0.0</td>\n",
       "    </tr>\n",
       "  </tbody>\n",
       "</table>\n",
       "</div>"
      ],
      "text/plain": [
       "      TempHighF  TempAvgF  TempLowF  DewPointAvgF  HumidityHighPercent  \\\n",
       "1312        103        91        78            71                   91   \n",
       "1313        103        91        78            70                   91   \n",
       "1314        103        89        75            67                   82   \n",
       "1317        106        93        79            68                   69   \n",
       "1318         99        88        77            61                   64   \n",
       "\n",
       "      HumidityAvgPercent  HumidityLowPercent  SeaLevelPressureAvgInches  \\\n",
       "1312                  61                  31                      30.03   \n",
       "1313                  58                  25                      30.03   \n",
       "1314                  54                  25                      29.97   \n",
       "1317                  48                  27                      29.91   \n",
       "1318                  43                  22                      29.97   \n",
       "\n",
       "      VisibilityHighMiles  VisibilityAvgMiles  VisibilityLowMiles  \\\n",
       "1312                   10                  10                   9   \n",
       "1313                   10                  10                  10   \n",
       "1314                   10                  10                  10   \n",
       "1317                   10                  10                  10   \n",
       "1318                   10                  10                  10   \n",
       "\n",
       "      WindHighMPH  WindAvgMPH  WindGustMPH  PrecipitationSumInches  \n",
       "1312           15           7           24                     0.0  \n",
       "1313           15           6           27                     0.0  \n",
       "1314           12           5           21                     0.0  \n",
       "1317           13           4           20                     0.0  \n",
       "1318           12           4           20                     0.0  "
      ]
     },
     "execution_count": 8,
     "metadata": {},
     "output_type": "execute_result"
    }
   ],
   "source": [
    "df_rainfall.tail()"
   ]
  },
  {
   "cell_type": "code",
   "execution_count": 9,
   "id": "7f9b81ee-f9b6-4ce5-a1fa-3d7eacc3c215",
   "metadata": {
    "tags": []
   },
   "outputs": [
    {
     "data": {
      "text/html": [
       "<div>\n",
       "<style scoped>\n",
       "    .dataframe tbody tr th:only-of-type {\n",
       "        vertical-align: middle;\n",
       "    }\n",
       "\n",
       "    .dataframe tbody tr th {\n",
       "        vertical-align: top;\n",
       "    }\n",
       "\n",
       "    .dataframe thead th {\n",
       "        text-align: right;\n",
       "    }\n",
       "</style>\n",
       "<table border=\"1\" class=\"dataframe\">\n",
       "  <thead>\n",
       "    <tr style=\"text-align: right;\">\n",
       "      <th></th>\n",
       "      <th>TempHighF</th>\n",
       "      <th>TempAvgF</th>\n",
       "      <th>TempLowF</th>\n",
       "      <th>DewPointAvgF</th>\n",
       "      <th>HumidityHighPercent</th>\n",
       "      <th>HumidityAvgPercent</th>\n",
       "      <th>HumidityLowPercent</th>\n",
       "      <th>SeaLevelPressureAvgInches</th>\n",
       "      <th>VisibilityHighMiles</th>\n",
       "      <th>VisibilityAvgMiles</th>\n",
       "      <th>VisibilityLowMiles</th>\n",
       "      <th>WindHighMPH</th>\n",
       "      <th>WindAvgMPH</th>\n",
       "      <th>WindGustMPH</th>\n",
       "    </tr>\n",
       "  </thead>\n",
       "  <tbody>\n",
       "    <tr>\n",
       "      <th>1</th>\n",
       "      <td>56</td>\n",
       "      <td>48</td>\n",
       "      <td>39</td>\n",
       "      <td>36</td>\n",
       "      <td>93</td>\n",
       "      <td>68</td>\n",
       "      <td>43</td>\n",
       "      <td>30.13</td>\n",
       "      <td>10</td>\n",
       "      <td>10</td>\n",
       "      <td>5</td>\n",
       "      <td>16</td>\n",
       "      <td>6</td>\n",
       "      <td>25</td>\n",
       "    </tr>\n",
       "    <tr>\n",
       "      <th>2</th>\n",
       "      <td>58</td>\n",
       "      <td>45</td>\n",
       "      <td>32</td>\n",
       "      <td>27</td>\n",
       "      <td>76</td>\n",
       "      <td>52</td>\n",
       "      <td>27</td>\n",
       "      <td>30.49</td>\n",
       "      <td>10</td>\n",
       "      <td>10</td>\n",
       "      <td>10</td>\n",
       "      <td>8</td>\n",
       "      <td>3</td>\n",
       "      <td>12</td>\n",
       "    </tr>\n",
       "    <tr>\n",
       "      <th>3</th>\n",
       "      <td>61</td>\n",
       "      <td>46</td>\n",
       "      <td>31</td>\n",
       "      <td>28</td>\n",
       "      <td>89</td>\n",
       "      <td>56</td>\n",
       "      <td>22</td>\n",
       "      <td>30.45</td>\n",
       "      <td>10</td>\n",
       "      <td>10</td>\n",
       "      <td>7</td>\n",
       "      <td>12</td>\n",
       "      <td>4</td>\n",
       "      <td>20</td>\n",
       "    </tr>\n",
       "    <tr>\n",
       "      <th>4</th>\n",
       "      <td>58</td>\n",
       "      <td>50</td>\n",
       "      <td>41</td>\n",
       "      <td>40</td>\n",
       "      <td>86</td>\n",
       "      <td>71</td>\n",
       "      <td>56</td>\n",
       "      <td>30.33</td>\n",
       "      <td>10</td>\n",
       "      <td>10</td>\n",
       "      <td>7</td>\n",
       "      <td>10</td>\n",
       "      <td>2</td>\n",
       "      <td>16</td>\n",
       "    </tr>\n",
       "    <tr>\n",
       "      <th>5</th>\n",
       "      <td>57</td>\n",
       "      <td>48</td>\n",
       "      <td>39</td>\n",
       "      <td>36</td>\n",
       "      <td>79</td>\n",
       "      <td>63</td>\n",
       "      <td>47</td>\n",
       "      <td>30.40</td>\n",
       "      <td>10</td>\n",
       "      <td>9</td>\n",
       "      <td>7</td>\n",
       "      <td>12</td>\n",
       "      <td>3</td>\n",
       "      <td>17</td>\n",
       "    </tr>\n",
       "  </tbody>\n",
       "</table>\n",
       "</div>"
      ],
      "text/plain": [
       "   TempHighF  TempAvgF  TempLowF  DewPointAvgF  HumidityHighPercent  \\\n",
       "1         56        48        39            36                   93   \n",
       "2         58        45        32            27                   76   \n",
       "3         61        46        31            28                   89   \n",
       "4         58        50        41            40                   86   \n",
       "5         57        48        39            36                   79   \n",
       "\n",
       "   HumidityAvgPercent  HumidityLowPercent  SeaLevelPressureAvgInches  \\\n",
       "1                  68                  43                      30.13   \n",
       "2                  52                  27                      30.49   \n",
       "3                  56                  22                      30.45   \n",
       "4                  71                  56                      30.33   \n",
       "5                  63                  47                      30.40   \n",
       "\n",
       "   VisibilityHighMiles  VisibilityAvgMiles  VisibilityLowMiles  WindHighMPH  \\\n",
       "1                   10                  10                   5           16   \n",
       "2                   10                  10                  10            8   \n",
       "3                   10                  10                   7           12   \n",
       "4                   10                  10                   7           10   \n",
       "5                   10                   9                   7           12   \n",
       "\n",
       "   WindAvgMPH  WindGustMPH  \n",
       "1           6           25  \n",
       "2           3           12  \n",
       "3           4           20  \n",
       "4           2           16  \n",
       "5           3           17  "
      ]
     },
     "execution_count": 9,
     "metadata": {},
     "output_type": "execute_result"
    }
   ],
   "source": [
    "# Display the independent features:\n",
    "input_ds.head()"
   ]
  },
  {
   "cell_type": "code",
   "execution_count": 10,
   "id": "74712fbd-8262-4a06-80a9-bce277a39c53",
   "metadata": {
    "tags": []
   },
   "outputs": [
    {
     "data": {
      "text/plain": [
       "(1008, 14)"
      ]
     },
     "execution_count": 10,
     "metadata": {},
     "output_type": "execute_result"
    }
   ],
   "source": [
    "input_ds.shape"
   ]
  },
  {
   "cell_type": "code",
   "execution_count": 12,
   "id": "c0e070ce-5e8f-4a25-99b0-b3163c62dfec",
   "metadata": {
    "tags": []
   },
   "outputs": [
    {
     "data": {
      "image/png": "[encoded data removed]",
      "text/plain": [
       "<Figure size 640x480 with 16 Axes>"
      ]
     },
     "metadata": {},
     "output_type": "display_data"
    }
   ],
   "source": [
    "# Distribution of all dependent variables.\n",
    "# Create a histogram of each:\n",
    "new_df = df_rainfall.drop(columns=[\"PrecipitationSumInches\"])\n",
    "distr_hist = new_df.hist(bins=15)\n",
    "\n",
    "# Disable axis labels to avoid clutter:\n",
    "for axis in distr_hist.flatten():\n",
    "    axis.set_xticklabels([])\n",
    "    axis.set_yticklabels([])\n",
    "plt.show()\n"
   ]
  },
  {
   "cell_type": "code",
   "execution_count": 13,
   "id": "3b6fc0ca-8e1c-46c8-8c00-7be04e61d834",
   "metadata": {
    "tags": []
   },
   "outputs": [
    {
     "data": {
      "image/png": "[encoded data removed]",
      "text/plain": [
       "<Figure size 640x480 with 1 Axes>"
      ]
     },
     "metadata": {},
     "output_type": "display_data"
    }
   ],
   "source": [
    "# Use a horizontal boxplot to check for outliers in the 'TempHighF' column:\n",
    "plt.boxplot(df_rainfall[\"TempHighF\"], vert = False)\n",
    "plt.xlabel(\"Highest Temperature [°F]\")\n",
    "plt.title(\"Distribution of Highest Temperature\");"
   ]
  },
  {
   "cell_type": "code",
   "execution_count": 14,
   "id": "b1a9cbde-0258-4f44-b33f-d388a9db20d8",
   "metadata": {
    "tags": []
   },
   "outputs": [
    {
     "data": {
      "text/plain": [
       "count    1008.000000\n",
       "mean       79.078373\n",
       "std        15.522569\n",
       "min        32.000000\n",
       "25%        69.000000\n",
       "50%        81.000000\n",
       "75%        92.000000\n",
       "max       106.000000\n",
       "Name: TempHighF, dtype: float64"
      ]
     },
     "execution_count": 14,
     "metadata": {},
     "output_type": "execute_result"
    }
   ],
   "source": [
    "# Summary stats of 'TempHighF' feature:\n",
    "df_rainfall[\"TempHighF\"].describe()"
   ]
  },
  {
   "cell_type": "code",
   "execution_count": 15,
   "id": "6244229e-e7b2-407b-9fb6-9ec53d36d78f",
   "metadata": {
    "tags": []
   },
   "outputs": [
    {
     "data": {
      "image/png": "[encoded data removed]",
      "text/plain": [
       "<Figure size 640x480 with 1 Axes>"
      ]
     },
     "metadata": {},
     "output_type": "display_data"
    }
   ],
   "source": [
    "# Use a horizontal boxplot to check for outliers in the 'TempAvgF' column:\n",
    "plt.boxplot(df_rainfall[\"TempAvgF\"], vert = False)\n",
    "plt.xlabel(\"Average Temperature [°F]\")\n",
    "plt.title(\"Distribution of Average Temperature\");"
   ]
  },
  {
   "cell_type": "code",
   "execution_count": 16,
   "id": "6a7d5a3e-26a5-4e93-b366-d3970688bd8e",
   "metadata": {
    "tags": []
   },
   "outputs": [
    {
     "data": {
      "text/plain": [
       "count    1008.000000\n",
       "mean       68.929563\n",
       "std        14.742881\n",
       "min        29.000000\n",
       "25%        57.000000\n",
       "50%        71.000000\n",
       "75%        82.000000\n",
       "max        93.000000\n",
       "Name: TempAvgF, dtype: float64"
      ]
     },
     "execution_count": 16,
     "metadata": {},
     "output_type": "execute_result"
    }
   ],
   "source": [
    "# Summary stats of 'TempAvgF' feature:\n",
    "df_rainfall[\"TempAvgF\"].describe()"
   ]
  },
  {
   "cell_type": "code",
   "execution_count": 17,
   "id": "e21f2dcc-845e-47a8-a906-a0f6574758c4",
   "metadata": {
    "tags": []
   },
   "outputs": [
    {
     "data": {
      "image/png": "[encoded data removed]",
      "text/plain": [
       "<Figure size 640x480 with 1 Axes>"
      ]
     },
     "metadata": {},
     "output_type": "display_data"
    }
   ],
   "source": [
    "# Use a horizontal boxplot to check for outliers in the 'TempLowF' column:\n",
    "plt.boxplot(df_rainfall[\"TempLowF\"], vert = False)\n",
    "plt.xlabel(\"Lowest Temperature [°F]\")\n",
    "plt.title(\"Distribution of Lowest Temperature\");"
   ]
  },
  {
   "cell_type": "code",
   "execution_count": 18,
   "id": "f1913241-a4cc-4b71-a016-a38dc39e11f0",
   "metadata": {
    "tags": []
   },
   "outputs": [
    {
     "data": {
      "text/plain": [
       "count    1008.000000\n",
       "mean       58.269841\n",
       "std        14.835229\n",
       "min        19.000000\n",
       "25%        46.000000\n",
       "50%        60.000000\n",
       "75%        72.000000\n",
       "max        81.000000\n",
       "Name: TempLowF, dtype: float64"
      ]
     },
     "execution_count": 18,
     "metadata": {},
     "output_type": "execute_result"
    }
   ],
   "source": [
    "# Summary stats of 'TempLowF' feature:\n",
    "df_rainfall[\"TempLowF\"].describe()"
   ]
  },
  {
   "cell_type": "code",
   "execution_count": 19,
   "id": "773d6e5d-09bf-4a34-82a6-91b23d16d0bb",
   "metadata": {
    "tags": []
   },
   "outputs": [
    {
     "data": {
      "image/png": "[encoded data removed]",
      "text/plain": [
       "<Figure size 640x480 with 1 Axes>"
      ]
     },
     "metadata": {},
     "output_type": "display_data"
    }
   ],
   "source": [
    "# Use a horizontal boxplot to check for outliers in the 'DewPointAvgF' column:\n",
    "plt.boxplot(df_rainfall[\"DewPointAvgF\"], vert = False)\n",
    "plt.xlabel(\"Average Dew Point Temperature [°F]\")\n",
    "plt.title(\"Distribution of Average Dew Point Temperature\");"
   ]
  },
  {
   "cell_type": "code",
   "execution_count": 20,
   "id": "a8675e9a-48d5-4080-99a5-c7b5503f869d",
   "metadata": {
    "tags": []
   },
   "outputs": [
    {
     "data": {
      "text/plain": [
       "count    1008.000000\n",
       "mean       54.822421\n",
       "std        15.690123\n",
       "min         8.000000\n",
       "25%        43.000000\n",
       "50%        59.000000\n",
       "75%        69.000000\n",
       "max        76.000000\n",
       "Name: DewPointAvgF, dtype: float64"
      ]
     },
     "execution_count": 20,
     "metadata": {},
     "output_type": "execute_result"
    }
   ],
   "source": [
    "df_rainfall[\"DewPointAvgF\"].describe()"
   ]
  },
  {
   "cell_type": "code",
   "execution_count": 21,
   "id": "a56ff9c1-c3b3-46ab-8206-f0565f218246",
   "metadata": {
    "tags": []
   },
   "outputs": [
    {
     "data": {
      "image/png": "[encoded data removed]",
      "text/plain": [
       "<Figure size 640x480 with 1 Axes>"
      ]
     },
     "metadata": {},
     "output_type": "display_data"
    }
   ],
   "source": [
    "# Use a horizontal boxplot to check for outliers in the 'HumidityAvgPercent' column:\n",
    "plt.boxplot(df_rainfall[\"HumidityAvgPercent\"], vert = False)\n",
    "plt.xlabel(\"Average Humidity [%]\")\n",
    "plt.title(\"Distribution of Average Humidity\");"
   ]
  },
  {
   "cell_type": "code",
   "execution_count": 22,
   "id": "e24b5248-567a-4370-b94f-d45efe7e01a7",
   "metadata": {
    "tags": []
   },
   "outputs": [
    {
     "data": {
      "text/plain": [
       "count    1008.000000\n",
       "mean       66.210317\n",
       "std        12.755567\n",
       "min        27.000000\n",
       "25%        58.000000\n",
       "50%        67.000000\n",
       "75%        74.000000\n",
       "max        97.000000\n",
       "Name: HumidityAvgPercent, dtype: float64"
      ]
     },
     "execution_count": 22,
     "metadata": {},
     "output_type": "execute_result"
    }
   ],
   "source": [
    "df_rainfall[\"HumidityAvgPercent\"].describe()"
   ]
  },
  {
   "cell_type": "code",
   "execution_count": 23,
   "id": "1ffff279-bc37-4612-bb2e-e80f5be0d41a",
   "metadata": {
    "tags": []
   },
   "outputs": [
    {
     "data": {
      "image/png": "[encoded data removed]",
      "text/plain": [
       "<Figure size 640x480 with 1 Axes>"
      ]
     },
     "metadata": {},
     "output_type": "display_data"
    }
   ],
   "source": [
    "# Use a horizontal boxplot to check for outliers in the 'SeaLevelPressureAvgInches' column:\n",
    "plt.boxplot(df_rainfall[\"SeaLevelPressureAvgInches\"], vert = False)\n",
    "plt.xlabel(\"Average Sea Level Pressure [Inches]\")\n",
    "plt.title(\"Distribution of Average Sea Level Pressure\");"
   ]
  },
  {
   "cell_type": "code",
   "execution_count": 24,
   "id": "04a3604b-e5e1-4f9f-9372-26f6c76fd05f",
   "metadata": {
    "tags": []
   },
   "outputs": [
    {
     "data": {
      "text/plain": [
       "count    1008.000000\n",
       "mean       30.081349\n",
       "std         0.146358\n",
       "min        29.910000\n",
       "25%        29.970000\n",
       "50%        30.040000\n",
       "75%        30.150000\n",
       "max        30.740000\n",
       "Name: SeaLevelPressureAvgInches, dtype: float64"
      ]
     },
     "execution_count": 24,
     "metadata": {},
     "output_type": "execute_result"
    }
   ],
   "source": [
    "df_rainfall[\"SeaLevelPressureAvgInches\"].describe()"
   ]
  },
  {
   "cell_type": "code",
   "execution_count": 25,
   "id": "6a0efee5-e39d-4e14-a8c6-2a72f06ac9e6",
   "metadata": {
    "tags": []
   },
   "outputs": [
    {
     "data": {
      "image/png": "[encoded data removed]",
      "text/plain": [
       "<Figure size 640x480 with 1 Axes>"
      ]
     },
     "metadata": {},
     "output_type": "display_data"
    }
   ],
   "source": [
    "# Use a horizontal boxplot to check for outliers in the 'VisibilityHighMiles' column:\n",
    "plt.boxplot(df_rainfall[\"VisibilityHighMiles\"], vert = False)\n",
    "plt.xlabel(\"Highest Visibility [Miles]\")\n",
    "plt.title(\"Distribution of Highest Visibility\");"
   ]
  },
  {
   "cell_type": "code",
   "execution_count": 26,
   "id": "96d32150-2991-437f-b204-f418287f3393",
   "metadata": {
    "tags": []
   },
   "outputs": [
    {
     "data": {
      "text/plain": [
       "count    1008.000000\n",
       "mean        9.994048\n",
       "std         0.099474\n",
       "min         8.000000\n",
       "25%        10.000000\n",
       "50%        10.000000\n",
       "75%        10.000000\n",
       "max        10.000000\n",
       "Name: VisibilityHighMiles, dtype: float64"
      ]
     },
     "execution_count": 26,
     "metadata": {},
     "output_type": "execute_result"
    }
   ],
   "source": [
    "df_rainfall[\"VisibilityHighMiles\"].describe()"
   ]
  },
  {
   "cell_type": "code",
   "execution_count": 27,
   "id": "2202ffb4-10d8-4f6f-8ec8-f7425a251366",
   "metadata": {
    "tags": []
   },
   "outputs": [
    {
     "data": {
      "image/png": "[encoded data removed]",
      "text/plain": [
       "<Figure size 640x480 with 1 Axes>"
      ]
     },
     "metadata": {},
     "output_type": "display_data"
    }
   ],
   "source": [
    "# Use a horizontal boxplot to check for outliers in the 'VisibilityAvgMiles' column:\n",
    "plt.boxplot(df_rainfall[\"VisibilityAvgMiles\"], vert = False)\n",
    "plt.xlabel(\"Average Visibility [Miles]\")\n",
    "plt.title(\"Distribution of Average Visibility\");"
   ]
  },
  {
   "cell_type": "code",
   "execution_count": 28,
   "id": "3729c613-682e-4988-ad54-7cf59a9ec00f",
   "metadata": {
    "tags": []
   },
   "outputs": [
    {
     "data": {
      "text/plain": [
       "count    1008.000000\n",
       "mean        9.230159\n",
       "std         1.435333\n",
       "min         2.000000\n",
       "25%         9.000000\n",
       "50%        10.000000\n",
       "75%        10.000000\n",
       "max        10.000000\n",
       "Name: VisibilityAvgMiles, dtype: float64"
      ]
     },
     "execution_count": 28,
     "metadata": {},
     "output_type": "execute_result"
    }
   ],
   "source": [
    "df_rainfall[\"VisibilityAvgMiles\"].describe()"
   ]
  },
  {
   "cell_type": "code",
   "execution_count": 29,
   "id": "618dd064-533b-4254-861a-241af245ce60",
   "metadata": {
    "tags": []
   },
   "outputs": [
    {
     "data": {
      "image/png": "[encoded data removed]",
      "text/plain": [
       "<Figure size 640x480 with 1 Axes>"
      ]
     },
     "metadata": {},
     "output_type": "display_data"
    }
   ],
   "source": [
    "# Use a horizontal boxplot to check for outliers in the 'WindAvgMPH' column:\n",
    "plt.boxplot(df_rainfall[\"WindAvgMPH\"], vert = False)\n",
    "plt.xlabel(\"Average Wind Speed [MPH]\")\n",
    "plt.title(\"Distribution of Average Wind Speed\");"
   ]
  },
  {
   "cell_type": "code",
   "execution_count": 30,
   "id": "4e39c46e-24ca-4c8c-9935-3b428adb1fcd",
   "metadata": {
    "tags": []
   },
   "outputs": [
    {
     "data": {
      "text/plain": [
       "count    1008.000000\n",
       "mean        4.767857\n",
       "std         2.029494\n",
       "min         1.000000\n",
       "25%         3.000000\n",
       "50%         5.000000\n",
       "75%         6.000000\n",
       "max        12.000000\n",
       "Name: WindAvgMPH, dtype: float64"
      ]
     },
     "execution_count": 30,
     "metadata": {},
     "output_type": "execute_result"
    }
   ],
   "source": [
    "df_rainfall[\"WindAvgMPH\"].describe()"
   ]
  },
  {
   "cell_type": "code",
   "execution_count": 31,
   "id": "4671c5a6-c439-4849-bf83-fc4ad9e4a0d8",
   "metadata": {
    "tags": []
   },
   "outputs": [
    {
     "data": {
      "image/png": "[encoded data removed]",
      "text/plain": [
       "<Figure size 640x480 with 1 Axes>"
      ]
     },
     "metadata": {},
     "output_type": "display_data"
    }
   ],
   "source": [
    "# Use a horizontal boxplot to check for outliers in the 'WindGustMPH' column:\n",
    "plt.boxplot(df_rainfall[\"WindGustMPH\"], vert = False)\n",
    "plt.xlabel(\"Wind Gust [MPH]\")\n",
    "plt.title(\"Distribution of Wind Gust\");"
   ]
  },
  {
   "cell_type": "code",
   "execution_count": 32,
   "id": "ec705dfb-ebff-4648-9e9c-ea71614c5deb",
   "metadata": {
    "tags": []
   },
   "outputs": [
    {
     "data": {
      "text/plain": [
       "count    1008.000000\n",
       "mean       20.609127\n",
       "std         5.677006\n",
       "min         0.000000\n",
       "25%        17.000000\n",
       "50%        20.000000\n",
       "75%        24.000000\n",
       "max        57.000000\n",
       "Name: WindGustMPH, dtype: float64"
      ]
     },
     "execution_count": 32,
     "metadata": {},
     "output_type": "execute_result"
    }
   ],
   "source": [
    "df_rainfall[\"WindGustMPH\"].describe()"
   ]
  },
  {
   "cell_type": "code",
   "execution_count": 33,
   "id": "e818ae96-81f7-4272-81a5-714bd1df322f",
   "metadata": {
    "tags": []
   },
   "outputs": [
    {
     "data": {
      "image/png": "[encoded data removed]",
      "text/plain": [
       "<Figure size 640x480 with 1 Axes>"
      ]
     },
     "metadata": {},
     "output_type": "display_data"
    }
   ],
   "source": [
    "# Use a horizontal boxplot to check for outliers in the 'PrecipitationSumInches' column:\n",
    "plt.boxplot(df_rainfall[\"PrecipitationSumInches\"], vert = False)\n",
    "plt.xlabel(\"Amount of Precipitation (Inches)\")\n",
    "plt.title(\"Distribution of Precipitation\");"
   ]
  },
  {
   "cell_type": "code",
   "execution_count": 34,
   "id": "a8253a2a-6249-40ce-90b9-edc401dfaa1b",
   "metadata": {
    "tags": []
   },
   "outputs": [
    {
     "data": {
      "text/plain": [
       "count    1008.000000\n",
       "mean        0.087073\n",
       "std         0.306352\n",
       "min         0.000000\n",
       "25%         0.000000\n",
       "50%         0.000000\n",
       "75%         0.000000\n",
       "max         3.840000\n",
       "Name: PrecipitationSumInches, dtype: float64"
      ]
     },
     "execution_count": 34,
     "metadata": {},
     "output_type": "execute_result"
    }
   ],
   "source": [
    "# Summary stats of 'PrecipitationSumInches' attribute:\n",
    "df_rainfall[\"PrecipitationSumInches\"].describe()"
   ]
  },
  {
   "cell_type": "code",
   "execution_count": 35,
   "id": "d47ba4e3-2dae-4a10-a52a-cce4e92a09f5",
   "metadata": {
    "tags": []
   },
   "outputs": [
    {
     "data": {
      "image/png": "[encoded data removed]",
      "text/plain": [
       "<Figure size 1200x900 with 2 Axes>"
      ]
     },
     "metadata": {},
     "output_type": "display_data"
    }
   ],
   "source": [
    "# Correlation matrix.\n",
    "# Shows the relationship between the dependent variables and the independent variable:\n",
    "corrmatrix = df_rainfall.corr()\n",
    "fig = plt.figure(figsize = (12, 9))\n",
    "\n",
    "sns.heatmap(corrmatrix, vmax = 1.0, square = True)\n",
    "plt.show()"
   ]
  },
  {
   "cell_type": "code",
   "execution_count": 36,
   "id": "e6c2f1ec-5afd-4664-9f54-d882a3b9089b",
   "metadata": {
    "tags": []
   },
   "outputs": [
    {
     "data": {
      "image/png": "[encoded data removed]",
      "text/plain": [
       "<Figure size 640x480 with 1 Axes>"
      ]
     },
     "metadata": {},
     "output_type": "display_data"
    }
   ],
   "source": [
    "# Create a scatterplot to test if 'HumidityAvgPercent' influences the amount of precipitation:\n",
    "plt.scatter(df_rainfall[\"HumidityAvgPercent\"], df_rainfall[\"PrecipitationSumInches\"])\n",
    "plt.xlabel(\"Average Humidity (%)\")\n",
    "plt.ylabel(\"Amount of Precipitation (Inches)\")\n",
    "plt.title(\"Precipitation vs. Average Humidy\");"
   ]
  },
  {
   "cell_type": "code",
   "execution_count": 37,
   "id": "3d9c1d31-5874-4d0e-b77a-dcb00967f960",
   "metadata": {
    "tags": []
   },
   "outputs": [
    {
     "name": "stdout",
     "output_type": "stream",
     "text": [
      "The Pearson correlation coefficient is:  0.3681990786463334\n"
     ]
    }
   ],
   "source": [
    "# The Pearson correlation coefficient of 'PrecipitationSumInches' and 'HumidityAvgPercent':\n",
    "p_correlation = df_rainfall[\"HumidityAvgPercent\"].corr(df_rainfall[\"PrecipitationSumInches\"])\n",
    "print(\"The Pearson correlation coefficient is: \", p_correlation)"
   ]
  },
  {
   "cell_type": "code",
   "execution_count": 38,
   "id": "3bd19866-2707-4767-ac7e-ede83927ee3e",
   "metadata": {
    "tags": []
   },
   "outputs": [
    {
     "name": "stdout",
     "output_type": "stream",
     "text": [
      "(1008, 14) (1008,)\n"
     ]
    }
   ],
   "source": [
    "# Dataset summary:\n",
    "print(input_ds.shape, output_ds.shape)"
   ]
  },
  {
   "cell_type": "code",
   "execution_count": 39,
   "id": "9c6702ad-161c-4873-96ca-f99f6c41d8d4",
   "metadata": {
    "tags": []
   },
   "outputs": [
    {
     "name": "stdout",
     "output_type": "stream",
     "text": [
      "input train:  (806, 14)\n",
      "\n",
      "input test:  (202, 14)\n",
      "\n",
      "output train:  (806,)\n",
      "\n",
      "output test:  (202,)\n"
     ]
    }
   ],
   "source": [
    "# Split into train and test sets:\n",
    "input_train, input_test, output_train, output_test = train_test_split(input_ds, output_ds, test_size = 0.2, random_state = 42)\n",
    "\n",
    "print(\"input train: \", input_train.shape)\n",
    "print(\"\\ninput test: \", input_test.shape)\n",
    "print(\"\\noutput train: \", output_train.shape)\n",
    "print(\"\\noutput test: \", output_test.shape)"
   ]
  },
  {
   "cell_type": "code",
   "execution_count": 40,
   "id": "b7670f24-df61-4e96-80c8-291df4e1e186",
   "metadata": {
    "tags": []
   },
   "outputs": [],
   "source": [
    "# Standardize the training and test set:\n",
    "sc = StandardScaler()\n",
    "input_train = sc.fit_transform(input_train)\n",
    "input_test = sc.transform(input_test)"
   ]
  },
  {
   "cell_type": "code",
   "execution_count": 41,
   "id": "4c4bc3de-03fd-47ec-b3e9-d7130891d9c0",
   "metadata": {
    "tags": []
   },
   "outputs": [
    {
     "name": "stdout",
     "output_type": "stream",
     "text": [
      "[[-1.05255844 -1.23480713 -1.38764384 -2.05959806 -2.63694306 -2.23259463\n",
      "  -1.56512579  1.58762965  0.05761512  0.54358645  0.83061291  0.67215627\n",
      "   0.62588596  0.78520543]\n",
      " [-1.69273509 -1.23480713 -0.7194392  -0.72643975  0.77073194  0.68428437\n",
      "   0.54127174  0.425014    0.05761512 -0.90477943 -1.39447727  0.67215627\n",
      "  -0.36520261  0.25233236]\n",
      " [ 1.12404218  0.98464145  0.75061103  0.54323484 -0.79495657 -0.85517955\n",
      "  -0.72256678 -0.6692125   0.05761512  0.54358645  0.83061291 -0.86169977\n",
      "  -0.36520261 -0.63578941]\n",
      " [ 0.3558302  -0.15871085 -0.7194392  -0.66295602 -0.1502613  -0.93620396\n",
      "  -1.32439464 -0.46404503  0.05761512  0.54358645  0.83061291 -1.16847097\n",
      "  -0.8607469  -0.2805407 ]\n",
      " [ 0.1637772   0.37933729  0.55014963  0.54323484  1.13912924  0.84633321\n",
      "   0.54127174  0.425014    0.05761512 -0.18059649 -0.56006845  0.36538506\n",
      "   0.62588596  0.42995672]\n",
      " [-2.07684108 -1.97462333 -1.78856663 -1.61521196  0.40233464  0.36018671\n",
      "   0.2403578   1.17729471  0.05761512  0.54358645 -0.0037959   0.36538506\n",
      "  -0.36520261  0.07470801]\n",
      " [ 1.18805985  1.1864095   1.08471335  0.98762094  0.58653329 -0.20698421\n",
      "  -0.72256678 -0.53243419  0.05761512  0.54358645  0.55247664  0.05861385\n",
      "   0.62588596  0.25233236]\n",
      " [ 0.80395386  0.98464145  1.08471335  1.05110467 -0.05816198  0.52223554\n",
      "   0.84218567 -0.73760165  0.05761512  0.54358645  0.27434037 -1.16847097\n",
      "  -0.8607469  -0.63578941]\n",
      " [ 0.86797152  0.98464145  1.01789288  1.1145884   1.13912924  0.60325996\n",
      "   0.11999223 -1.14793659  0.05761512 -0.90477943 -1.67261354 -0.86169977\n",
      "  -0.8607469  -0.63578941]\n",
      " [ 1.12404218  1.11915349  1.01789288  0.98762094  0.58653329 -0.04493538\n",
      "  -0.42165285 -1.01115828  0.05761512  0.54358645  0.27434037 -0.24815735\n",
      "   0.13034167 -0.2805407 ]]\n"
     ]
    }
   ],
   "source": [
    "# Print the first 10 rows of the 'input_train' 2D array:\n",
    "print(input_train[:10])"
   ]
  },
  {
   "cell_type": "code",
   "execution_count": 42,
   "id": "b95c8cc4-9acf-4a70-91ce-01a78b263353",
   "metadata": {
    "tags": []
   },
   "outputs": [
    {
     "name": "stdout",
     "output_type": "stream",
     "text": [
      "Mean precipitation level is:  0.09\n",
      "Baseline MAE is:  0.14\n",
      "Baseline RMSE is:  0.3\n"
     ]
    }
   ],
   "source": [
    "y_train_mean = output_train.mean()\n",
    "y_pred_baseline = [y_train_mean] * len(output_train)\n",
    "mae_baseline = mean_absolute_error(output_train, y_pred_baseline)\n",
    "rmse_baseline = np.sqrt(mean_squared_error(output_train, y_pred_baseline))\n",
    "print(\"Mean precipitation level is: \", round(y_train_mean, 2))\n",
    "print(\"Baseline MAE is: \", round(mae_baseline, 2))\n",
    "print(\"Baseline RMSE is: \", round(rmse_baseline, 2))"
   ]
  },
  {
   "cell_type": "code",
   "execution_count": 43,
   "id": "840b2ac8-7be3-4dc1-a7d0-0f557e8930e7",
   "metadata": {
    "tags": []
   },
   "outputs": [
    {
     "name": "stdout",
     "output_type": "stream",
     "text": [
      "The intercept is:  0.08528535980148888\n",
      "\n",
      "The coefficient is:  [ 0.24571219 -0.33747861  0.31965307 -0.22037346  0.12773646 -0.25306266\n",
      "  0.27313453 -0.00437155  0.02615958 -0.10718213 -0.02063717  0.07573155\n",
      " -0.07114171  0.02975905]\n"
     ]
    }
   ],
   "source": [
    "# Create a linear regression model and train it:\n",
    "model = LinearRegression()\n",
    "model.fit(input_train, output_train)\n",
    "\n",
    "# Calculating the intercept and coefficient:\n",
    "print(\"The intercept is: \", model.intercept_)\n",
    "print(\"\\nThe coefficient is: \", model.coef_)\n",
    "\n",
    "# Make predictions:\n",
    "predictions_lr = model.predict(input_train)"
   ]
  },
  {
   "cell_type": "code",
   "execution_count": 44,
   "id": "7a362b26-fc5d-488d-a009-a9df35cc64e3",
   "metadata": {
    "tags": []
   },
   "outputs": [
    {
     "name": "stdout",
     "output_type": "stream",
     "text": [
      "The training MAE is:  0.12 \n",
      "\n",
      "Scores RMSE:  [0.2380799  0.20186494 0.18686664 0.37246955 0.2041969  0.17203585\n",
      " 0.45722685 0.16922172 0.19475157 0.17712903]\n",
      "Standard deviation:  0.09266019734473509 \n",
      "\n",
      "Mean RMSE is:  0.24\n"
     ]
    }
   ],
   "source": [
    "# Evaluate the model on the training set.\n",
    "# The Mean Absolute Error:\n",
    "mae_training = mean_absolute_error(output_train, predictions_lr)\n",
    "print(\"The training MAE is: \", round(mae_training, 2), \"\\n\")\n",
    "# The Root Mean Squared Error:\n",
    "scores = cross_val_score(model, input_train, output_train, scoring = \"neg_mean_squared_error\", cv=10)\n",
    "rmse_scores = np.sqrt(-scores)\n",
    "# Let's look at the results:\n",
    "def display_scores(scores):\n",
    "    print(\"Scores RMSE: \", scores)\n",
    "    print(\"Standard deviation: \", scores.std(), \"\\n\")\n",
    "    print(\"Mean RMSE is: \", round(scores.mean(), 2))\n",
    "    \n",
    "\n",
    "display_scores(rmse_scores)"
   ]
  },
  {
   "cell_type": "code",
   "execution_count": 45,
   "id": "0c32bc35-71a4-47c9-b5e6-26c8c2d4c500",
   "metadata": {
    "tags": []
   },
   "outputs": [],
   "source": [
    "# Create a KNeighbors Regression model and train it:\n",
    "kn_reg = KNeighborsRegressor(n_neighbors = 2)\n",
    "kn_reg.fit(input_train, output_train)\n",
    "\n",
    "# Make predictions:\n",
    "predictions_knn = kn_reg.predict(input_train)"
   ]
  },
  {
   "cell_type": "code",
   "execution_count": 46,
   "id": "83d00cd0-4855-439f-8d0b-5d824b4b3d95",
   "metadata": {
    "tags": []
   },
   "outputs": [
    {
     "name": "stdout",
     "output_type": "stream",
     "text": [
      "The training MAE is:  0.04 \n",
      "\n",
      "Scores RMSE:  [0.23882557 0.24624025 0.15695993 0.33372616 0.34425443 0.23153074\n",
      " 0.36634768 0.18402615 0.1782642  0.17060737]\n",
      "Standard deviation:  0.07357095109061319 \n",
      "\n",
      "Mean RMSE is:  0.25\n"
     ]
    }
   ],
   "source": [
    "# Evaluate the model on the training set.\n",
    "# The Mean Absolute Error:\n",
    "mae_training = mean_absolute_error(output_train, predictions_knn)\n",
    "print(\"The training MAE is: \", round(mae_training, 2), \"\\n\")\n",
    "# The Root Mean Squared Error:\n",
    "scores = cross_val_score(kn_reg, input_train, output_train, scoring = \"neg_mean_squared_error\", cv=10)\n",
    "rmse_scores = np.sqrt(-scores)\n",
    "# Let's look at the results:\n",
    "def display_scores(scores):\n",
    "    print(\"Scores RMSE: \", scores)\n",
    "    print(\"Standard deviation: \", scores.std(), \"\\n\")\n",
    "    print(\"Mean RMSE is: \", round(scores.mean(), 2))\n",
    "    \n",
    "\n",
    "display_scores(rmse_scores)"
   ]
  },
  {
   "cell_type": "code",
   "execution_count": 47,
   "id": "e0cf3512-75f9-4d29-8a5f-30323710c021",
   "metadata": {
    "tags": []
   },
   "outputs": [
    {
     "name": "stdout",
     "output_type": "stream",
     "text": [
      "The intercept is:  0.08528535980148894\n",
      "\n",
      "The coefficient is:  [ 0.04992996  0.01210887  0.12862574 -0.19040192  0.06355513 -0.11830609\n",
      "  0.17414104 -0.00417321  0.02595241 -0.1060957  -0.02147047  0.07447056\n",
      " -0.07048576  0.03020105]\n"
     ]
    }
   ],
   "source": [
    "# Create a ridge regression model and train it:\n",
    "ridge = Ridge()\n",
    "ridge.fit(input_train, output_train)\n",
    "\n",
    "# Calculating the intercept and coefficient:\n",
    "print(\"The intercept is: \", ridge.intercept_)\n",
    "print(\"\\nThe coefficient is: \", ridge.coef_)\n",
    "\n",
    "# Make predictions:\n",
    "predictions_r = ridge.predict(input_train)"
   ]
  },
  {
   "cell_type": "code",
   "execution_count": 48,
   "id": "2ae607be-90eb-4cac-b8bd-63905abbecea",
   "metadata": {
    "tags": []
   },
   "outputs": [
    {
     "name": "stdout",
     "output_type": "stream",
     "text": [
      "The training MAE is:  0.12 \n",
      "\n",
      "Scores RMSE:  [0.23829956 0.20051459 0.18617347 0.37378345 0.20453977 0.17088139\n",
      " 0.45457161 0.16833494 0.19585456 0.1775039 ]\n",
      "Standard deviation:  0.09237763106923448 \n",
      "\n",
      "Mean RMSE is:  0.24\n"
     ]
    }
   ],
   "source": [
    "# Evaluate the model on the training set.\n",
    "# The Mean Absolute Error:\n",
    "mae_training = mean_absolute_error(output_train, predictions_r)\n",
    "print(\"The training MAE is: \", round(mae_training, 2), \"\\n\")\n",
    "# The Root Mean Squared Error:\n",
    "scores = cross_val_score(ridge, input_train, output_train, scoring = \"neg_mean_squared_error\", cv=10)\n",
    "rmse_scores = np.sqrt(-scores)\n",
    "# Let's look at the results:\n",
    "def display_scores(scores):\n",
    "    print(\"Scores RMSE: \", scores)\n",
    "    print(\"Standard deviation: \", scores.std(), \"\\n\")\n",
    "    print(\"Mean RMSE is: \", round(scores.mean(), 2))\n",
    "    \n",
    "\n",
    "display_scores(rmse_scores)"
   ]
  },
  {
   "cell_type": "code",
   "execution_count": 49,
   "id": "fc93a40e-2de2-401e-b8ea-1eae1da39df4",
   "metadata": {
    "tags": []
   },
   "outputs": [
    {
     "name": "stdout",
     "output_type": "stream",
     "text": [
      "The intercept is:  0.08528535980148885\n",
      "\n",
      "The coefficient is:  [-0.00220235  0.01693353  0.04189331 -0.04477622 -0.01289655  0.00819891\n",
      "  0.05128808 -0.00353129  0.0238549  -0.09865524 -0.02775774  0.06081555\n",
      " -0.06079119  0.03464541]\n"
     ]
    }
   ],
   "source": [
    "# Create a ridge regression model and train it:\n",
    "ridge25 = Ridge(alpha = 25)\n",
    "ridge25.fit(input_train, output_train)\n",
    "\n",
    "# Calculating the intercept and coefficient:\n",
    "print(\"The intercept is: \", ridge25.intercept_)\n",
    "print(\"\\nThe coefficient is: \", ridge25.coef_)\n",
    "\n",
    "# Make predictions:\n",
    "predictions_r25 = ridge25.predict(input_train)"
   ]
  },
  {
   "cell_type": "code",
   "execution_count": 50,
   "id": "e525d828-211f-4dcc-8de8-143629fc3d92",
   "metadata": {
    "tags": []
   },
   "outputs": [
    {
     "name": "stdout",
     "output_type": "stream",
     "text": [
      "The training MAE is:  0.12 \n",
      "\n",
      "Scores RMSE:  [0.23662402 0.19501727 0.18709533 0.37870844 0.20212096 0.17091138\n",
      " 0.45140912 0.1678608  0.19772078 0.17910838]\n",
      "Standard deviation:  0.0925004471929151 \n",
      "\n",
      "Mean RMSE is:  0.24\n"
     ]
    }
   ],
   "source": [
    "# Evaluate the model on the training set.\n",
    "# The Mean Absolute Error:\n",
    "mae_training = mean_absolute_error(output_train, predictions_r25)\n",
    "print(\"The training MAE is: \", round(mae_training, 2), \"\\n\")\n",
    "# The Root Mean Squared Error:\n",
    "scores = cross_val_score(ridge25, input_train, output_train, scoring = \"neg_mean_squared_error\", cv=10)\n",
    "rmse_scores = np.sqrt(-scores)\n",
    "# Let's look at the results:\n",
    "def display_scores(scores):\n",
    "    print(\"Scores RMSE: \", scores)\n",
    "    print(\"Standard deviation: \", scores.std(), \"\\n\")\n",
    "    print(\"Mean RMSE is: \", round(scores.mean(), 2))\n",
    "    \n",
    "\n",
    "display_scores(rmse_scores)"
   ]
  },
  {
   "cell_type": "code",
   "execution_count": 51,
   "id": "1d4629b8-5b85-4821-a6a6-bee5c178fa96",
   "metadata": {
    "tags": []
   },
   "outputs": [],
   "source": [
    "# Make a Random Forest Regressor model and train it:\n",
    "from sklearn.ensemble import RandomForestRegressor\n",
    "\n",
    "forest_reg = RandomForestRegressor()\n",
    "forest_reg.fit(input_train, output_train)\n",
    "\n",
    "# Make predictions:\n",
    "predictions_forest = forest_reg.predict(input_train)"
   ]
  },
  {
   "cell_type": "code",
   "execution_count": 54,
   "id": "20898438-301e-4fc3-8c3c-5de50484f91c",
   "metadata": {
    "tags": []
   },
   "outputs": [
    {
     "name": "stdout",
     "output_type": "stream",
     "text": [
      "The training MAE is:  0.03 \n",
      "\n",
      "Scores RMSE:  [0.23798589 0.18414989 0.21660006 0.3215052  0.277882   0.17466051\n",
      " 0.43148485 0.11284858 0.25223405 0.12135863]\n",
      "Standard deviation:  0.09088316961223278 \n",
      "\n",
      "Mean RMSE is:  0.23\n"
     ]
    }
   ],
   "source": [
    "# Evaluate the model on the training set.\n",
    "# The Mean Absolute Error:\n",
    "mae_training = mean_absolute_error(output_train, predictions_forest)\n",
    "print(\"The training MAE is: \", round(mae_training, 2), \"\\n\")\n",
    "# The Root Mean Squared Error:\n",
    "scores = cross_val_score(forest_reg, input_train, output_train, scoring = \"neg_mean_squared_error\", cv=10)\n",
    "rmse_scores = np.sqrt(-scores)\n",
    "# Let's look at the results:\n",
    "def display_scores(scores):\n",
    "    print(\"Scores RMSE: \", scores)\n",
    "    print(\"Standard deviation: \", scores.std(), \"\\n\")\n",
    "    print(\"Mean RMSE is: \", round(scores.mean(), 2))\n",
    "    \n",
    "\n",
    "display_scores(rmse_scores)"
   ]
  },
  {
   "cell_type": "code",
   "execution_count": 55,
   "id": "d2c2d3cb-8a53-40ae-8d3b-c1c2ad73c7a3",
   "metadata": {
    "tags": []
   },
   "outputs": [],
   "source": [
    "# Make a Support Vector Regressor model and train it:\n",
    "from sklearn.svm import SVR\n",
    "\n",
    "regressor_linear = SVR(kernel = \"linear\")\n",
    "regressor_linear.fit(input_train, output_train)\n",
    "\n",
    "# Make predictions:\n",
    "predictions_svr_l = regressor_linear.predict(input_train)"
   ]
  },
  {
   "cell_type": "code",
   "execution_count": 56,
   "id": "f0789f7d-a98a-4aa7-b1e8-bfbe10667e10",
   "metadata": {
    "tags": []
   },
   "outputs": [
    {
     "name": "stdout",
     "output_type": "stream",
     "text": [
      "The training MAE is:  0.11 \n",
      "\n",
      "Scores RMSE:  [0.25175962 0.17643558 0.1997258  0.41529319 0.18913161 0.17780183\n",
      " 0.48623003 0.17697073 0.20984416 0.16589841]\n",
      "Standard deviation:  0.10665176354804083 \n",
      "\n",
      "Mean RMSE is:  0.24\n"
     ]
    }
   ],
   "source": [
    "# Evaluate the model on the training set.\n",
    "# The Mean Absolute Error:\n",
    "mae_training = mean_absolute_error(output_train, predictions_svr_l)\n",
    "print(\"The training MAE is: \", round(mae_training, 2), \"\\n\")\n",
    "# The Root Mean Squared Error:\n",
    "scores = cross_val_score(regressor_linear, input_train, output_train, scoring = \"neg_mean_squared_error\", cv=10)\n",
    "rmse_scores = np.sqrt(-scores)\n",
    "# Let's look at the results:\n",
    "def display_scores(scores):\n",
    "    print(\"Scores RMSE: \", scores)\n",
    "    print(\"Standard deviation: \", scores.std(), \"\\n\")\n",
    "    print(\"Mean RMSE is: \", round(scores.mean(), 2))\n",
    "    \n",
    "\n",
    "display_scores(rmse_scores)"
   ]
  },
  {
   "cell_type": "code",
   "execution_count": 57,
   "id": "ea04c426-439a-47d4-982a-56465ffb74e8",
   "metadata": {
    "tags": []
   },
   "outputs": [],
   "source": [
    "# Make a Support Vector Regressor model and train it:\n",
    "from sklearn.svm import SVR\n",
    "\n",
    "regressor_rbf = SVR(kernel = \"rbf\")\n",
    "regressor_rbf.fit(input_train, output_train)\n",
    "\n",
    "# Make predictions:\n",
    "predictions_svr_r = regressor_rbf.predict(input_train)"
   ]
  },
  {
   "cell_type": "code",
   "execution_count": 58,
   "id": "90221248-9575-4888-b704-221060cd5e5a",
   "metadata": {
    "tags": []
   },
   "outputs": [
    {
     "name": "stdout",
     "output_type": "stream",
     "text": [
      "The training MAE is:  0.09 \n",
      "\n",
      "Scores RMSE:  [0.21991073 0.17131496 0.1580901  0.32496973 0.1814094  0.16502927\n",
      " 0.41999116 0.13791165 0.18816222 0.13328967]\n",
      "Standard deviation:  0.08717889593176742 \n",
      "\n",
      "Mean RMSE is:  0.21\n"
     ]
    }
   ],
   "source": [
    "# Evaluate the model on the training set.\n",
    "# The Mean Absolute Error:\n",
    "mae_training = mean_absolute_error(output_train, predictions_svr_r)\n",
    "print(\"The training MAE is: \", round(mae_training, 2), \"\\n\")\n",
    "# The Root Mean Squared Error:\n",
    "scores = cross_val_score(regressor_rbf, input_train, output_train, scoring = \"neg_mean_squared_error\", cv=10)\n",
    "rmse_scores = np.sqrt(-scores)\n",
    "# Let's look at the results:\n",
    "def display_scores(scores):\n",
    "    print(\"Scores RMSE: \", scores)\n",
    "    print(\"Standard deviation: \", scores.std(), \"\\n\")\n",
    "    print(\"Mean RMSE is: \", round(scores.mean(), 2))\n",
    "    \n",
    "\n",
    "display_scores(rmse_scores)"
   ]
  },
  {
   "cell_type": "code",
   "execution_count": 59,
   "id": "ab9a0fff-72be-477d-87df-8236a4e18abd",
   "metadata": {
    "tags": []
   },
   "outputs": [
    {
     "data": {
      "text/plain": [
       "GridSearchCV(estimator=RandomForestRegressor(),\n",
       "             param_grid={'max_depth': [1, 2, 3, 4], 'n_estimators': [3, 6, 9]})"
      ]
     },
     "execution_count": 59,
     "metadata": {},
     "output_type": "execute_result"
    }
   ],
   "source": [
    "# Using 'GridSearchCV' to find the best hyperparameters for the model:\n",
    "from sklearn.model_selection import GridSearchCV\n",
    "\n",
    "parameters = {\n",
    "    \"n_estimators\" : [3, 6, 9],\n",
    "    \"max_depth\" : [1, 2, 3, 4],\n",
    "}\n",
    " \n",
    "clf = GridSearchCV(forest_reg, parameters)\n",
    "clf.fit(input_train, output_train) "
   ]
  },
  {
   "cell_type": "code",
   "execution_count": 60,
   "id": "947c5865-f3f8-4621-8efe-ca0689649ba2",
   "metadata": {
    "tags": []
   },
   "outputs": [
    {
     "name": "stdout",
     "output_type": "stream",
     "text": [
      "The training MAE is:  0.08 \n",
      "\n",
      "The training RMSE is:  0 2\n"
     ]
    }
   ],
   "source": [
    "# Make predictions using best hyperparameters:\n",
    "y_pred_train = clf.predict(input_train)\n",
    "\n",
    "# Evaluate model performance using MAE and RMSE:\n",
    "mae_training = mean_absolute_error(output_train, y_pred_train)\n",
    "print(\"The training MAE is: \", round(mae_training, 2), \"\\n\")\n",
    "# The Root Mean Squared Error:\n",
    "rmse_training = np.sqrt(mean_squared_error(output_train, y_pred_train))\n",
    "print(\"The training RMSE is: \", round(rmse_training), 2)"
   ]
  },
  {
   "cell_type": "code",
   "execution_count": 61,
   "id": "7c11ae14-15ca-497a-b9c5-3c38eab3eed8",
   "metadata": {
    "tags": []
   },
   "outputs": [
    {
     "data": {
      "text/plain": [
       "GridSearchCV(estimator=SVR(),\n",
       "             param_grid={'C': [0.25, 0.5, 1], 'epsilon': [0.25, 0.5, 1],\n",
       "                         'gamma': [1e-07, 0.0001]})"
      ]
     },
     "execution_count": 61,
     "metadata": {},
     "output_type": "execute_result"
    }
   ],
   "source": [
    "# Using 'GridSearchCV' to find the best hyperparameters for the model:\n",
    "parameters = {\n",
    "    \"gamma\": [1e-7, 1e-4],\n",
    "    \"C\": [0.25, 0.5, 1],\n",
    "    \"epsilon\": [0.25, 0.5, 1],\n",
    "}\n",
    "\n",
    "clf = GridSearchCV(regressor_rbf, parameters)\n",
    "clf.fit(input_train, output_train)"
   ]
  },
  {
   "cell_type": "code",
   "execution_count": 62,
   "id": "7c9afe2d-d934-42b1-b083-c4ea45a69376",
   "metadata": {
    "tags": []
   },
   "outputs": [
    {
     "name": "stdout",
     "output_type": "stream",
     "text": [
      "The training MAE is:  0.25 \n",
      "\n",
      "The training RMSE is:  0 2\n"
     ]
    }
   ],
   "source": [
    "# Make predictions using best hyperparameters:\n",
    "y_pred_train = clf.predict(input_train)\n",
    "\n",
    "# Evaluate model performance using MAE and RMSE:\n",
    "mae_training = mean_absolute_error(output_train, y_pred_train)\n",
    "print(\"The training MAE is: \", round(mae_training, 2), \"\\n\")\n",
    "# The Root Mean Squared Error:\n",
    "rmse_training = np.sqrt(mean_squared_error(output_train, y_pred_train))\n",
    "print(\"The training RMSE is: \", round(rmse_training), 2)"
   ]
  },
  {
   "cell_type": "code",
   "execution_count": 63,
   "id": "147598ab-9c3d-4ce5-ba5b-bc6971ca2b31",
   "metadata": {
    "tags": []
   },
   "outputs": [
    {
     "name": "stdout",
     "output_type": "stream",
     "text": [
      "The test MAE is:  0.09 \n",
      "\n",
      "The test RMSE is:  0 2\n"
     ]
    }
   ],
   "source": [
    "# Make predictions\n",
    "y_pred = forest_reg.predict(input_test)\n",
    "\n",
    "# Evaluate model performance using MAE and RMSE:\n",
    "mae_test = mean_absolute_error(output_test, y_pred)\n",
    "print(\"The test MAE is: \", round(mae_test, 2), \"\\n\")\n",
    "# The Root Mean Squared Error:\n",
    "rmse_test = np.sqrt(mean_squared_error(output_test, y_pred))\n",
    "print(\"The test RMSE is: \", round(rmse_test), 2)"
   ]
  },
  {
   "cell_type": "code",
   "execution_count": 64,
   "id": "714dc595-c202-475b-8b97-5025b84ea1c6",
   "metadata": {
    "tags": []
   },
   "outputs": [
    {
     "name": "stdout",
     "output_type": "stream",
     "text": [
      "features len:  14\n",
      "Index(['TempHighF', 'TempAvgF', 'TempLowF', 'DewPointAvgF',\n",
      "       'HumidityHighPercent', 'HumidityAvgPercent', 'HumidityLowPercent',\n",
      "       'SeaLevelPressureAvgInches', 'VisibilityHighMiles',\n",
      "       'VisibilityAvgMiles', 'VisibilityLowMiles', 'WindHighMPH', 'WindAvgMPH',\n",
      "       'WindGustMPH'],\n",
      "      dtype='object')\n"
     ]
    },
    {
     "data": {
      "text/plain": [
       "TempHighF                    0.25\n",
       "TempAvgF                    -0.34\n",
       "TempLowF                     0.32\n",
       "DewPointAvgF                -0.22\n",
       "HumidityHighPercent          0.13\n",
       "HumidityAvgPercent          -0.25\n",
       "HumidityLowPercent           0.27\n",
       "SeaLevelPressureAvgInches   -0.00\n",
       "VisibilityHighMiles          0.03\n",
       "VisibilityAvgMiles          -0.11\n",
       "dtype: float64"
      ]
     },
     "execution_count": 64,
     "metadata": {},
     "output_type": "execute_result"
    }
   ],
   "source": [
    "# Extract the intercept and coefficient from the linear model:\n",
    "intercept = model.intercept_.round(2)\n",
    "coefficients = model.coef_.round(2)\n",
    "# Get the feature names:\n",
    "feature_names = input_ds.columns\n",
    "print(\"features len: \", len(feature_names))\n",
    "print(feature_names)\n",
    "\n",
    "# Put together the coefficients and feature names into a Series:\n",
    "feature_imp = pd.Series(coefficients, index = feature_names)\n",
    "feature_imp.head(10)"
   ]
  },
  {
   "cell_type": "code",
   "execution_count": 65,
   "id": "0e93f153-3344-4dfc-8212-5d943d81b7b6",
   "metadata": {
    "tags": []
   },
   "outputs": [
    {
     "name": "stdout",
     "output_type": "stream",
     "text": [
      "Precipation Level  = 0.09\n",
      "+ (0.25 * TempHighF)\n",
      "+ (-0.34 * TempAvgF)\n",
      "+ (0.32 * TempLowF)\n",
      "+ (-0.22 * DewPointAvgF)\n",
      "+ (0.13 * HumidityHighPercent)\n",
      "+ (-0.25 * HumidityAvgPercent)\n",
      "+ (0.27 * HumidityLowPercent)\n",
      "+ (-0.0 * SeaLevelPressureAvgInches)\n",
      "+ (0.03 * VisibilityHighMiles)\n",
      "+ (-0.11 * VisibilityAvgMiles)\n",
      "+ (-0.02 * VisibilityLowMiles)\n",
      "+ (0.08 * WindHighMPH)\n",
      "+ (-0.07 * WindAvgMPH)\n",
      "+ (0.03 * WindGustMPH)\n"
     ]
    }
   ],
   "source": [
    "# Print the linear equation for the model:\n",
    "print(f\"Precipation Level  = {intercept.round(2)}\")\n",
    "for f, c in feature_imp.items():\n",
    "    print(f\"+ ({round(c, 2)} * {f})\")"
   ]
  },
  {
   "cell_type": "code",
   "execution_count": 66,
   "id": "83e803d2-983f-4e82-be94-bed329794b3d",
   "metadata": {
    "tags": []
   },
   "outputs": [
    {
     "data": {
      "image/png": "[encoded data removed]",
      "text/plain": [
       "<Figure size 640x480 with 1 Axes>"
      ]
     },
     "metadata": {},
     "output_type": "display_data"
    }
   ],
   "source": [
    "# Use a horizontal bar chart to show the top coefficients for my model, based on their absolute value\n",
    "\n",
    "# Sort the coefficients in decending order:\n",
    "feature_imp.sort_values()\n",
    "# Sort them according to their absolute value:\n",
    "feature_imp.sort_values(key=abs).tail(14).plot(kind=\"barh\")\n",
    "plt.xlabel(\"Importance [Inches]\")\n",
    "plt.ylabel(\"Feature\")\n",
    "plt.title(\"Feature Importance of Precipitation Amount\");"
   ]
  },
  {
   "cell_type": "code",
   "execution_count": 67,
   "id": "fc7d148b-32d8-46a7-a90a-8f1120c60444",
   "metadata": {
    "tags": []
   },
   "outputs": [
    {
     "data": {
      "text/html": [
       "<div>\n",
       "<style scoped>\n",
       "    .dataframe tbody tr th:only-of-type {\n",
       "        vertical-align: middle;\n",
       "    }\n",
       "\n",
       "    .dataframe tbody tr th {\n",
       "        vertical-align: top;\n",
       "    }\n",
       "\n",
       "    .dataframe thead th {\n",
       "        text-align: right;\n",
       "    }\n",
       "</style>\n",
       "<table border=\"1\" class=\"dataframe\">\n",
       "  <thead>\n",
       "    <tr style=\"text-align: right;\">\n",
       "      <th></th>\n",
       "      <th>y_test</th>\n",
       "      <th>y_pred</th>\n",
       "      <th>error</th>\n",
       "    </tr>\n",
       "  </thead>\n",
       "  <tbody>\n",
       "    <tr>\n",
       "      <th>0</th>\n",
       "      <td>0.00</td>\n",
       "      <td>0.0044</td>\n",
       "      <td>-0.0044</td>\n",
       "    </tr>\n",
       "    <tr>\n",
       "      <th>1</th>\n",
       "      <td>0.00</td>\n",
       "      <td>0.0000</td>\n",
       "      <td>0.0000</td>\n",
       "    </tr>\n",
       "    <tr>\n",
       "      <th>2</th>\n",
       "      <td>0.00</td>\n",
       "      <td>0.0140</td>\n",
       "      <td>-0.0140</td>\n",
       "    </tr>\n",
       "    <tr>\n",
       "      <th>3</th>\n",
       "      <td>0.00</td>\n",
       "      <td>0.0000</td>\n",
       "      <td>0.0000</td>\n",
       "    </tr>\n",
       "    <tr>\n",
       "      <th>4</th>\n",
       "      <td>0.13</td>\n",
       "      <td>0.0002</td>\n",
       "      <td>0.1298</td>\n",
       "    </tr>\n",
       "    <tr>\n",
       "      <th>5</th>\n",
       "      <td>0.00</td>\n",
       "      <td>0.0025</td>\n",
       "      <td>-0.0025</td>\n",
       "    </tr>\n",
       "    <tr>\n",
       "      <th>6</th>\n",
       "      <td>1.19</td>\n",
       "      <td>0.8189</td>\n",
       "      <td>0.3711</td>\n",
       "    </tr>\n",
       "    <tr>\n",
       "      <th>7</th>\n",
       "      <td>0.00</td>\n",
       "      <td>0.0000</td>\n",
       "      <td>0.0000</td>\n",
       "    </tr>\n",
       "    <tr>\n",
       "      <th>8</th>\n",
       "      <td>0.00</td>\n",
       "      <td>0.0084</td>\n",
       "      <td>-0.0084</td>\n",
       "    </tr>\n",
       "    <tr>\n",
       "      <th>9</th>\n",
       "      <td>0.11</td>\n",
       "      <td>0.1420</td>\n",
       "      <td>-0.0320</td>\n",
       "    </tr>\n",
       "  </tbody>\n",
       "</table>\n",
       "</div>"
      ],
      "text/plain": [
       "   y_test  y_pred   error\n",
       "0    0.00  0.0044 -0.0044\n",
       "1    0.00  0.0000  0.0000\n",
       "2    0.00  0.0140 -0.0140\n",
       "3    0.00  0.0000  0.0000\n",
       "4    0.13  0.0002  0.1298\n",
       "5    0.00  0.0025 -0.0025\n",
       "6    1.19  0.8189  0.3711\n",
       "7    0.00  0.0000  0.0000\n",
       "8    0.00  0.0084 -0.0084\n",
       "9    0.11  0.1420 -0.0320"
      ]
     },
     "execution_count": 67,
     "metadata": {},
     "output_type": "execute_result"
    }
   ],
   "source": [
    "# Create a DataFrame to hold the true values of the test set and the model's predictions:\n",
    "predictions = pd.DataFrame (\n",
    "    zip(output_test, y_pred, output_test - y_pred),\n",
    "    columns = [\"y_test\", \"y_pred\", \"error\"]\n",
    ")\n",
    "\n",
    "predictions.head(10)"
   ]
  },
  {
   "cell_type": "code",
   "execution_count": 68,
   "id": "9e25d375-1372-4735-870d-03e0e00d41c1",
   "metadata": {
    "tags": []
   },
   "outputs": [
    {
     "data": {
      "image/png": "[encoded data removed]",
      "text/plain": [
       "<Figure size 1000x1000 with 1 Axes>"
      ]
     },
     "metadata": {},
     "output_type": "display_data"
    }
   ],
   "source": [
    "# Create a Line plot to visualize model results:\n",
    "\n",
    "plt.figure(figsize = (10, 10))\n",
    "x = np.linspace(0, 5, 5)\n",
    "plt.plot(predictions[\"y_test\"], predictions[\"y_pred\"], 'b.')\n",
    "plt.plot(x, x, 'r-')\n",
    "plt.xlim(0, 4)\n",
    "plt.ylim(0, 4)\n",
    "plt.title(\"Model Predictions\", fontsize=16)\n",
    "plt.xlabel(\"Actual Value\", fontsize=14)\n",
    "plt.ylabel(\"Predicted Value\", fontsize=14)\n",
    "plt.savefig(\"Rainfall Predictions.png\")\n",
    "plt.show();"
   ]
  },
  {
   "cell_type": "code",
   "execution_count": 69,
   "id": "f1e485e0-cd37-4b5d-be82-dbd86f9df84e",
   "metadata": {
    "tags": []
   },
   "outputs": [
    {
     "data": {
      "text/plain": [
       "<matplotlib.legend.Legend at 0x26ef79b6b88>"
      ]
     },
     "execution_count": 69,
     "metadata": {},
     "output_type": "execute_result"
    },
    {
     "data": {
      "image/png": "[encoded data removed]",
      "text/plain": [
       "<Figure size 640x480 with 1 Axes>"
      ]
     },
     "metadata": {},
     "output_type": "display_data"
    }
   ],
   "source": [
    "plt.plot(ridge.coef_, 's', label = \"Ridge alpha=1\")\n",
    "plt.plot(ridge25.coef_, '^', label = \"Ridge alpha=25\")\n",
    "\n",
    "plt.plot(model.coef_, 'o', label = \"LinearRegression\")\n",
    "plt.xlabel(\"Coefficient Index\")\n",
    "plt.ylabel(\"Coefficient Magnitude\")\n",
    "plt.hlines(0, 0, len(model.coef_))\n",
    "plt.ylim(-0.5, 0.5)\n",
    "plt.legend()"
   ]
  },
  {
   "cell_type": "code",
   "execution_count": null,
   "id": "93b8e7f9-6822-4ee6-bc6b-c6df045145cf",
   "metadata": {},
   "outputs": [],
   "source": []
  }
 ],
 "metadata": {
  "kernelspec": {
   "display_name": "Python 3 (ipykernel)",
   "language": "python",
   "name": "python3"
  },
  "language_info": {
   "codemirror_mode": {
    "name": "ipython",
    "version": 3
   },
   "file_extension": ".py",
   "mimetype": "text/x-python",
   "name": "python",
   "nbconvert_exporter": "python",
   "pygments_lexer": "ipython3",
   "version": "3.7.4"
  }
 },
 "nbformat": 4,
 "nbformat_minor": 5
}
