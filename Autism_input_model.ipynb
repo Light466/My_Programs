{
 "cells": [
  {
   "cell_type": "code",
   "execution_count": 1,
   "id": "5785fd48-1bd9-44c0-b86c-3a5193869434",
   "metadata": {
    "tags": []
   },
   "outputs": [],
   "source": [
    "import pandas as pd\n",
    "import numpy as np\n",
    "import matplotlib.pyplot as plt\n",
    "import seaborn as sns"
   ]
  },
  {
   "cell_type": "code",
   "execution_count": 2,
   "id": "b22eff43-eb5d-4450-b712-83112a090765",
   "metadata": {
    "tags": []
   },
   "outputs": [],
   "source": [
    "df = pd.read_csv(\"Toddler_Autism_dataset_July_2018.csv\")"
   ]
  },
  {
   "cell_type": "code",
   "execution_count": 3,
   "id": "81a624e8-1c12-4bff-87c9-7b6d6a29472b",
   "metadata": {
    "tags": []
   },
   "outputs": [
    {
     "name": "stdout",
     "output_type": "stream",
     "text": [
      "<class 'pandas.core.frame.DataFrame'>\n",
      "RangeIndex: 1054 entries, 0 to 1053\n",
      "Data columns (total 19 columns):\n",
      " #   Column                  Non-Null Count  Dtype \n",
      "---  ------                  --------------  ----- \n",
      " 0   Case_No                 1054 non-null   int64 \n",
      " 1   A1                      1054 non-null   int64 \n",
      " 2   A2                      1054 non-null   int64 \n",
      " 3   A3                      1054 non-null   int64 \n",
      " 4   A4                      1054 non-null   int64 \n",
      " 5   A5                      1054 non-null   int64 \n",
      " 6   A6                      1054 non-null   int64 \n",
      " 7   A7                      1054 non-null   int64 \n",
      " 8   A8                      1054 non-null   int64 \n",
      " 9   A9                      1054 non-null   int64 \n",
      " 10  A10                     1054 non-null   int64 \n",
      " 11  Age_Mons                1054 non-null   int64 \n",
      " 12  Qchat-10-Score          1054 non-null   int64 \n",
      " 13  Sex                     1054 non-null   object\n",
      " 14  Ethnicity               1054 non-null   object\n",
      " 15  Jaundice                1054 non-null   object\n",
      " 16  Family_mem_with_ASD     1054 non-null   object\n",
      " 17  Who completed the test  1054 non-null   object\n",
      " 18  Class/ASD Traits        1054 non-null   object\n",
      "dtypes: int64(13), object(6)\n",
      "memory usage: 156.6+ KB\n"
     ]
    }
   ],
   "source": [
    "df.info()"
   ]
  },
  {
   "cell_type": "code",
   "execution_count": 4,
   "id": "90e9330a-f864-468c-9d09-b8843f97a384",
   "metadata": {
    "tags": []
   },
   "outputs": [
    {
     "data": {
      "text/html": [
       "<div>\n",
       "<style scoped>\n",
       "    .dataframe tbody tr th:only-of-type {\n",
       "        vertical-align: middle;\n",
       "    }\n",
       "\n",
       "    .dataframe tbody tr th {\n",
       "        vertical-align: top;\n",
       "    }\n",
       "\n",
       "    .dataframe thead th {\n",
       "        text-align: right;\n",
       "    }\n",
       "</style>\n",
       "<table border=\"1\" class=\"dataframe\">\n",
       "  <thead>\n",
       "    <tr style=\"text-align: right;\">\n",
       "      <th></th>\n",
       "      <th>Case_No</th>\n",
       "      <th>Q1</th>\n",
       "      <th>Q2</th>\n",
       "      <th>Q3</th>\n",
       "      <th>Q4</th>\n",
       "      <th>Q5</th>\n",
       "      <th>Q6</th>\n",
       "      <th>Q7</th>\n",
       "      <th>Q8</th>\n",
       "      <th>Q9</th>\n",
       "      <th>Q10</th>\n",
       "      <th>Age in Months</th>\n",
       "      <th>Score out of 10</th>\n",
       "      <th>Gender</th>\n",
       "      <th>Region</th>\n",
       "      <th>Jaundice</th>\n",
       "      <th>Family_mem_with_ASD</th>\n",
       "      <th>Who completed the test</th>\n",
       "      <th>ASD</th>\n",
       "    </tr>\n",
       "  </thead>\n",
       "  <tbody>\n",
       "    <tr>\n",
       "      <th>0</th>\n",
       "      <td>1</td>\n",
       "      <td>0</td>\n",
       "      <td>0</td>\n",
       "      <td>0</td>\n",
       "      <td>0</td>\n",
       "      <td>0</td>\n",
       "      <td>0</td>\n",
       "      <td>1</td>\n",
       "      <td>1</td>\n",
       "      <td>0</td>\n",
       "      <td>1</td>\n",
       "      <td>28</td>\n",
       "      <td>3</td>\n",
       "      <td>f</td>\n",
       "      <td>middle eastern</td>\n",
       "      <td>yes</td>\n",
       "      <td>no</td>\n",
       "      <td>family member</td>\n",
       "      <td>No</td>\n",
       "    </tr>\n",
       "    <tr>\n",
       "      <th>1</th>\n",
       "      <td>2</td>\n",
       "      <td>1</td>\n",
       "      <td>1</td>\n",
       "      <td>0</td>\n",
       "      <td>0</td>\n",
       "      <td>0</td>\n",
       "      <td>1</td>\n",
       "      <td>1</td>\n",
       "      <td>0</td>\n",
       "      <td>0</td>\n",
       "      <td>0</td>\n",
       "      <td>36</td>\n",
       "      <td>4</td>\n",
       "      <td>m</td>\n",
       "      <td>White European</td>\n",
       "      <td>yes</td>\n",
       "      <td>no</td>\n",
       "      <td>family member</td>\n",
       "      <td>Yes</td>\n",
       "    </tr>\n",
       "    <tr>\n",
       "      <th>2</th>\n",
       "      <td>3</td>\n",
       "      <td>1</td>\n",
       "      <td>0</td>\n",
       "      <td>0</td>\n",
       "      <td>0</td>\n",
       "      <td>0</td>\n",
       "      <td>0</td>\n",
       "      <td>1</td>\n",
       "      <td>1</td>\n",
       "      <td>0</td>\n",
       "      <td>1</td>\n",
       "      <td>36</td>\n",
       "      <td>4</td>\n",
       "      <td>m</td>\n",
       "      <td>middle eastern</td>\n",
       "      <td>yes</td>\n",
       "      <td>no</td>\n",
       "      <td>family member</td>\n",
       "      <td>Yes</td>\n",
       "    </tr>\n",
       "    <tr>\n",
       "      <th>3</th>\n",
       "      <td>4</td>\n",
       "      <td>1</td>\n",
       "      <td>1</td>\n",
       "      <td>1</td>\n",
       "      <td>1</td>\n",
       "      <td>1</td>\n",
       "      <td>1</td>\n",
       "      <td>1</td>\n",
       "      <td>1</td>\n",
       "      <td>1</td>\n",
       "      <td>1</td>\n",
       "      <td>24</td>\n",
       "      <td>10</td>\n",
       "      <td>m</td>\n",
       "      <td>Hispanic</td>\n",
       "      <td>no</td>\n",
       "      <td>no</td>\n",
       "      <td>family member</td>\n",
       "      <td>Yes</td>\n",
       "    </tr>\n",
       "    <tr>\n",
       "      <th>4</th>\n",
       "      <td>5</td>\n",
       "      <td>1</td>\n",
       "      <td>1</td>\n",
       "      <td>0</td>\n",
       "      <td>1</td>\n",
       "      <td>1</td>\n",
       "      <td>1</td>\n",
       "      <td>1</td>\n",
       "      <td>1</td>\n",
       "      <td>1</td>\n",
       "      <td>1</td>\n",
       "      <td>20</td>\n",
       "      <td>9</td>\n",
       "      <td>f</td>\n",
       "      <td>White European</td>\n",
       "      <td>no</td>\n",
       "      <td>yes</td>\n",
       "      <td>family member</td>\n",
       "      <td>Yes</td>\n",
       "    </tr>\n",
       "    <tr>\n",
       "      <th>...</th>\n",
       "      <td>...</td>\n",
       "      <td>...</td>\n",
       "      <td>...</td>\n",
       "      <td>...</td>\n",
       "      <td>...</td>\n",
       "      <td>...</td>\n",
       "      <td>...</td>\n",
       "      <td>...</td>\n",
       "      <td>...</td>\n",
       "      <td>...</td>\n",
       "      <td>...</td>\n",
       "      <td>...</td>\n",
       "      <td>...</td>\n",
       "      <td>...</td>\n",
       "      <td>...</td>\n",
       "      <td>...</td>\n",
       "      <td>...</td>\n",
       "      <td>...</td>\n",
       "      <td>...</td>\n",
       "    </tr>\n",
       "    <tr>\n",
       "      <th>1049</th>\n",
       "      <td>1050</td>\n",
       "      <td>0</td>\n",
       "      <td>0</td>\n",
       "      <td>0</td>\n",
       "      <td>0</td>\n",
       "      <td>0</td>\n",
       "      <td>0</td>\n",
       "      <td>0</td>\n",
       "      <td>0</td>\n",
       "      <td>0</td>\n",
       "      <td>1</td>\n",
       "      <td>24</td>\n",
       "      <td>1</td>\n",
       "      <td>f</td>\n",
       "      <td>White European</td>\n",
       "      <td>no</td>\n",
       "      <td>yes</td>\n",
       "      <td>family member</td>\n",
       "      <td>No</td>\n",
       "    </tr>\n",
       "    <tr>\n",
       "      <th>1050</th>\n",
       "      <td>1051</td>\n",
       "      <td>0</td>\n",
       "      <td>0</td>\n",
       "      <td>1</td>\n",
       "      <td>1</td>\n",
       "      <td>1</td>\n",
       "      <td>0</td>\n",
       "      <td>1</td>\n",
       "      <td>0</td>\n",
       "      <td>1</td>\n",
       "      <td>0</td>\n",
       "      <td>12</td>\n",
       "      <td>5</td>\n",
       "      <td>m</td>\n",
       "      <td>black</td>\n",
       "      <td>yes</td>\n",
       "      <td>no</td>\n",
       "      <td>family member</td>\n",
       "      <td>Yes</td>\n",
       "    </tr>\n",
       "    <tr>\n",
       "      <th>1051</th>\n",
       "      <td>1052</td>\n",
       "      <td>1</td>\n",
       "      <td>0</td>\n",
       "      <td>1</td>\n",
       "      <td>1</td>\n",
       "      <td>1</td>\n",
       "      <td>1</td>\n",
       "      <td>1</td>\n",
       "      <td>1</td>\n",
       "      <td>1</td>\n",
       "      <td>1</td>\n",
       "      <td>18</td>\n",
       "      <td>9</td>\n",
       "      <td>m</td>\n",
       "      <td>middle eastern</td>\n",
       "      <td>yes</td>\n",
       "      <td>no</td>\n",
       "      <td>family member</td>\n",
       "      <td>Yes</td>\n",
       "    </tr>\n",
       "    <tr>\n",
       "      <th>1052</th>\n",
       "      <td>1053</td>\n",
       "      <td>1</td>\n",
       "      <td>0</td>\n",
       "      <td>0</td>\n",
       "      <td>0</td>\n",
       "      <td>0</td>\n",
       "      <td>0</td>\n",
       "      <td>0</td>\n",
       "      <td>1</td>\n",
       "      <td>0</td>\n",
       "      <td>1</td>\n",
       "      <td>19</td>\n",
       "      <td>3</td>\n",
       "      <td>m</td>\n",
       "      <td>White European</td>\n",
       "      <td>no</td>\n",
       "      <td>yes</td>\n",
       "      <td>family member</td>\n",
       "      <td>No</td>\n",
       "    </tr>\n",
       "    <tr>\n",
       "      <th>1053</th>\n",
       "      <td>1054</td>\n",
       "      <td>1</td>\n",
       "      <td>1</td>\n",
       "      <td>0</td>\n",
       "      <td>0</td>\n",
       "      <td>1</td>\n",
       "      <td>1</td>\n",
       "      <td>0</td>\n",
       "      <td>1</td>\n",
       "      <td>1</td>\n",
       "      <td>0</td>\n",
       "      <td>24</td>\n",
       "      <td>6</td>\n",
       "      <td>m</td>\n",
       "      <td>asian</td>\n",
       "      <td>yes</td>\n",
       "      <td>yes</td>\n",
       "      <td>family member</td>\n",
       "      <td>Yes</td>\n",
       "    </tr>\n",
       "  </tbody>\n",
       "</table>\n",
       "<p>1054 rows × 19 columns</p>\n",
       "</div>"
      ],
      "text/plain": [
       "      Case_No  Q1  Q2  Q3  Q4  Q5  Q6  Q7  Q8  Q9  Q10  Age in Months  \\\n",
       "0           1   0   0   0   0   0   0   1   1   0    1             28   \n",
       "1           2   1   1   0   0   0   1   1   0   0    0             36   \n",
       "2           3   1   0   0   0   0   0   1   1   0    1             36   \n",
       "3           4   1   1   1   1   1   1   1   1   1    1             24   \n",
       "4           5   1   1   0   1   1   1   1   1   1    1             20   \n",
       "...       ...  ..  ..  ..  ..  ..  ..  ..  ..  ..  ...            ...   \n",
       "1049     1050   0   0   0   0   0   0   0   0   0    1             24   \n",
       "1050     1051   0   0   1   1   1   0   1   0   1    0             12   \n",
       "1051     1052   1   0   1   1   1   1   1   1   1    1             18   \n",
       "1052     1053   1   0   0   0   0   0   0   1   0    1             19   \n",
       "1053     1054   1   1   0   0   1   1   0   1   1    0             24   \n",
       "\n",
       "      Score out of 10 Gender          Region Jaundice Family_mem_with_ASD  \\\n",
       "0                   3      f  middle eastern      yes                  no   \n",
       "1                   4      m  White European      yes                  no   \n",
       "2                   4      m  middle eastern      yes                  no   \n",
       "3                  10      m        Hispanic       no                  no   \n",
       "4                   9      f  White European       no                 yes   \n",
       "...               ...    ...             ...      ...                 ...   \n",
       "1049                1      f  White European       no                 yes   \n",
       "1050                5      m           black      yes                  no   \n",
       "1051                9      m  middle eastern      yes                  no   \n",
       "1052                3      m  White European       no                 yes   \n",
       "1053                6      m           asian      yes                 yes   \n",
       "\n",
       "     Who completed the test  ASD  \n",
       "0             family member   No  \n",
       "1             family member  Yes  \n",
       "2             family member  Yes  \n",
       "3             family member  Yes  \n",
       "4             family member  Yes  \n",
       "...                     ...  ...  \n",
       "1049          family member   No  \n",
       "1050          family member  Yes  \n",
       "1051          family member  Yes  \n",
       "1052          family member   No  \n",
       "1053          family member  Yes  \n",
       "\n",
       "[1054 rows x 19 columns]"
      ]
     },
     "execution_count": 4,
     "metadata": {},
     "output_type": "execute_result"
    }
   ],
   "source": [
    "df = df.rename(columns = {'Class/ASD Traits ' : 'ASD'})\n",
    "df = df.rename(columns = {'A1' : 'Q1'})\n",
    "df = df.rename(columns = {'A2' : 'Q2'})\n",
    "df = df.rename(columns = {'A3' : 'Q3'})\n",
    "df = df.rename(columns = {'A4' : 'Q4'})\n",
    "df = df.rename(columns = {'A5' : 'Q5'})\n",
    "df = df.rename(columns = {'A6' : 'Q6'})\n",
    "df = df.rename(columns = {'A7' : 'Q7'})\n",
    "df = df.rename(columns = {'A8' : 'Q8'})\n",
    "df = df.rename(columns = {'A9' : 'Q9'})\n",
    "df = df.rename(columns = {'A10' : 'Q10'})\n",
    "df = df.rename(columns = {'Age_Mons' : 'Age in Months'})\n",
    "df = df.rename(columns = {'Sex' : 'Gender'})\n",
    "df = df.rename(columns = {'Qchat-10-Score' : 'Score out of 10'})\n",
    "df = df.rename(columns = {'Ethnicity' : 'Region'})\n",
    "df"
   ]
  },
  {
   "cell_type": "code",
   "execution_count": 44,
   "id": "e4718d00-4da8-455b-9a94-0d6bedc65920",
   "metadata": {
    "tags": []
   },
   "outputs": [],
   "source": [
    "x = df.drop('Case_No' , axis = 1)\n",
    "x = x.drop('ASD', axis = 1)\n",
    "y = df['ASD']"
   ]
  },
  {
   "cell_type": "code",
   "execution_count": 26,
   "id": "8b08b654-79a1-409a-9cd9-581377d2bf5c",
   "metadata": {
    "tags": []
   },
   "outputs": [
    {
     "data": {
      "text/plain": [
       "((1054, 18), (1054,))"
      ]
     },
     "execution_count": 26,
     "metadata": {},
     "output_type": "execute_result"
    }
   ],
   "source": [
    "x.shape, y.shape"
   ]
  },
  {
   "cell_type": "code",
   "execution_count": 27,
   "id": "e4098498-f9bf-45bd-9643-4e8737d56ed6",
   "metadata": {
    "tags": []
   },
   "outputs": [],
   "source": [
    "from sklearn.model_selection import train_test_split\n",
    "x_train, x_test, y_train, y_test = train_test_split(x, y, test_size = 0.2, random_state = 36)"
   ]
  },
  {
   "cell_type": "code",
   "execution_count": 28,
   "id": "52d4acc3-360b-42bf-acbd-260ed636c080",
   "metadata": {
    "tags": []
   },
   "outputs": [
    {
     "data": {
      "text/plain": [
       "Index(['Gender', 'Region', 'Jaundice', 'Family_mem_with_ASD',\n",
       "       'Who completed the test', 'ASD'],\n",
       "      dtype='object')"
      ]
     },
     "execution_count": 28,
     "metadata": {},
     "output_type": "execute_result"
    }
   ],
   "source": [
    "obj_cols = x_train.select_dtypes(include = 'object').columns\n",
    "obj_cols"
   ]
  },
  {
   "cell_type": "code",
   "execution_count": 29,
   "id": "71aac945-dcad-4fd9-b8ae-17c3be0f5e5c",
   "metadata": {
    "tags": []
   },
   "outputs": [
    {
     "data": {
      "text/plain": [
       "Index(['Q1', 'Q2', 'Q3', 'Q4', 'Q5', 'Q6', 'Q7', 'Q8', 'Q9', 'Q10',\n",
       "       'Age in Months', 'Score out of 10'],\n",
       "      dtype='object')"
      ]
     },
     "execution_count": 29,
     "metadata": {},
     "output_type": "execute_result"
    }
   ],
   "source": [
    "float_cols = x_train.select_dtypes(include = 'int64').columns\n",
    "float_cols"
   ]
  },
  {
   "cell_type": "code",
   "execution_count": 30,
   "id": "8c9074a1-ad35-42eb-9ef7-d1c7604930df",
   "metadata": {
    "tags": []
   },
   "outputs": [
    {
     "data": {
      "text/plain": [
       "LabelEncoder()"
      ]
     },
     "execution_count": 30,
     "metadata": {},
     "output_type": "execute_result"
    }
   ],
   "source": [
    "from sklearn.preprocessing import LabelEncoder\n",
    "le = LabelEncoder()\n",
    "\n",
    "le.fit(y_train)"
   ]
  },
  {
   "cell_type": "code",
   "execution_count": 31,
   "id": "def7bcba-d108-4f2d-aee9-ac8599ff42bd",
   "metadata": {
    "tags": []
   },
   "outputs": [],
   "source": [
    "y_train_processed = le.transform(y_train)\n",
    "y_test_processed = le.transform(y_test)"
   ]
  },
  {
   "cell_type": "code",
   "execution_count": 32,
   "id": "a9851317-5583-4f7d-9b40-9ca783092f47",
   "metadata": {
    "tags": []
   },
   "outputs": [
    {
     "data": {
      "text/plain": [
       "array([1, 1, 1, 1, 1, 1, 0, 1, 1, 0, 1, 1, 0, 1, 0, 1, 0, 0, 1, 1, 1, 1,\n",
       "       1, 1, 0, 1, 0, 0, 1, 1, 1, 0, 1, 0, 1, 1, 0, 1, 1, 1, 1, 0, 1, 0,\n",
       "       1, 1, 1, 0, 1, 1, 1, 1, 1, 1, 1, 1, 1, 1, 1, 1, 1, 1, 1, 1, 0, 1,\n",
       "       1, 1, 1, 0, 1, 1, 1, 1, 0, 1, 1, 0, 1, 1, 1, 1, 1, 1, 1, 1, 1, 0,\n",
       "       1, 1, 0, 1, 1, 1, 1, 0, 0, 1, 1, 0, 1, 1, 0, 1, 0, 0, 0, 0, 1, 0,\n",
       "       1, 0, 0, 1, 1, 0, 1, 1, 1, 0, 1, 1, 1, 1, 1, 1, 1, 0, 0, 0, 1, 1,\n",
       "       1, 1, 1, 1, 0, 1, 1, 0, 0, 0, 1, 1, 1, 1, 1, 1, 1, 1, 1, 1, 0, 1,\n",
       "       1, 1, 1, 1, 1, 1, 1, 0, 1, 0, 1, 1, 1, 1, 1, 1, 0, 1, 0, 1, 1, 1,\n",
       "       1, 1, 0, 1, 1, 1, 0, 0, 1, 1, 1, 1, 0, 1, 1, 0, 0, 1, 1, 1, 1, 0,\n",
       "       1, 1, 1, 1, 1, 1, 1, 0, 1, 1, 1, 0, 0, 1, 0, 1, 1, 0, 1, 1, 1, 1,\n",
       "       1, 1, 1, 0, 0, 1, 1, 1, 0, 0, 1, 0, 1, 0, 0, 1, 0, 1, 1, 1, 1, 0,\n",
       "       1, 1, 0, 1, 1, 0, 0, 1, 0, 0, 1, 1, 1, 0, 1, 0, 1, 1, 1, 0, 0, 1,\n",
       "       1, 1, 1, 1, 1, 0, 1, 1, 1, 1, 0, 0, 0, 1, 0, 1, 1, 0, 1, 1, 1, 1,\n",
       "       0, 1, 0, 0, 1, 0, 1, 0, 1, 0, 0, 1, 1, 1, 1, 1, 0, 1, 1, 1, 1, 1,\n",
       "       1, 1, 0, 0, 1, 1, 1, 0, 0, 1, 0, 1, 1, 1, 1, 1, 1, 0, 0, 1, 1, 0,\n",
       "       1, 1, 1, 1, 0, 1, 0, 1, 1, 0, 1, 1, 0, 1, 0, 0, 0, 1, 1, 1, 0, 0,\n",
       "       0, 1, 1, 1, 1, 1, 1, 1, 1, 1, 0, 1, 1, 0, 1, 1, 0, 1, 1, 1, 1, 0,\n",
       "       0, 1, 1, 1, 1, 1, 1, 0, 1, 0, 1, 1, 1, 1, 1, 0, 1, 1, 1, 1, 1, 0,\n",
       "       0, 1, 1, 1, 1, 1, 1, 0, 1, 0, 0, 1, 1, 0, 1, 1, 1, 1, 0, 1, 1, 1,\n",
       "       1, 1, 1, 0, 1, 1, 1, 0, 1, 0, 0, 1, 1, 0, 1, 0, 0, 1, 1, 0, 1, 1,\n",
       "       1, 1, 1, 1, 1, 0, 1, 1, 1, 1, 1, 1, 1, 1, 1, 1, 1, 1, 1, 1, 1, 1,\n",
       "       1, 1, 0, 0, 1, 1, 1, 0, 1, 1, 1, 0, 1, 0, 0, 0, 1, 1, 0, 1, 0, 0,\n",
       "       0, 1, 0, 1, 0, 0, 1, 1, 1, 1, 0, 0, 1, 1, 0, 1, 0, 1, 0, 1, 1, 0,\n",
       "       1, 1, 1, 1, 0, 1, 1, 0, 1, 1, 1, 0, 0, 1, 1, 1, 0, 1, 1, 0, 0, 1,\n",
       "       1, 1, 0, 1, 1, 1, 1, 1, 1, 0, 1, 1, 1, 1, 1, 1, 1, 1, 1, 1, 0, 1,\n",
       "       0, 1, 0, 0, 1, 1, 0, 0, 1, 1, 1, 0, 1, 0, 1, 1, 1, 1, 1, 0, 0, 1,\n",
       "       1, 1, 1, 0, 1, 1, 0, 0, 0, 1, 1, 1, 0, 1, 1, 1, 1, 1, 0, 1, 1, 1,\n",
       "       1, 1, 1, 0, 0, 0, 0, 1, 0, 1, 1, 1, 1, 1, 0, 1, 1, 1, 1, 1, 0, 1,\n",
       "       1, 1, 0, 1, 1, 1, 0, 1, 1, 0, 1, 0, 0, 1, 0, 1, 0, 1, 0, 1, 0, 0,\n",
       "       0, 1, 0, 1, 1, 0, 0, 0, 1, 1, 1, 0, 1, 1, 0, 1, 1, 1, 0, 1, 1, 1,\n",
       "       1, 1, 1, 1, 0, 0, 1, 0, 1, 0, 1, 1, 1, 0, 1, 0, 0, 1, 1, 0, 1, 1,\n",
       "       1, 1, 1, 1, 1, 0, 1, 1, 1, 0, 0, 1, 0, 1, 1, 1, 0, 1, 1, 1, 1, 0,\n",
       "       0, 0, 1, 1, 0, 1, 1, 0, 0, 1, 0, 1, 1, 0, 1, 1, 0, 1, 1, 1, 1, 0,\n",
       "       1, 1, 0, 0, 1, 0, 0, 1, 1, 1, 1, 1, 1, 1, 0, 0, 1, 1, 0, 1, 1, 1,\n",
       "       1, 0, 1, 0, 0, 0, 0, 1, 0, 1, 0, 1, 1, 0, 1, 1, 1, 1, 1, 1, 1, 1,\n",
       "       1, 1, 1, 1, 1, 1, 0, 1, 1, 1, 1, 1, 0, 1, 0, 0, 1, 0, 1, 1, 0, 1,\n",
       "       1, 1, 1, 1, 1, 0, 1, 0, 1, 1, 0, 1, 1, 1, 1, 1, 1, 1, 1, 0, 0, 1,\n",
       "       0, 1, 0, 0, 1, 1, 1, 1, 0, 1, 1, 0, 1, 1, 1, 1, 0, 1, 0, 0, 1, 1,\n",
       "       1, 1, 0, 1, 1, 1, 1])"
      ]
     },
     "execution_count": 32,
     "metadata": {},
     "output_type": "execute_result"
    }
   ],
   "source": [
    "y_train_processed"
   ]
  },
  {
   "cell_type": "code",
   "execution_count": 33,
   "id": "b9e48419-5670-4b82-bc3c-e4bab862118f",
   "metadata": {
    "tags": []
   },
   "outputs": [],
   "source": [
    "from sklearn.preprocessing import OrdinalEncoder\n",
    "oe = OrdinalEncoder(categories = [x_train[i].unique() for i in obj_cols])\n",
    "oe.fit(x_train[obj_cols])\n",
    "x_train_cat_encoded = oe.transform(x_train[obj_cols])\n",
    "x_test_cat_encoded = oe.transform(x_test[obj_cols])"
   ]
  },
  {
   "cell_type": "code",
   "execution_count": 34,
   "id": "d79b2923-38d1-441a-8e32-90e1ebf12897",
   "metadata": {
    "tags": []
   },
   "outputs": [
    {
     "data": {
      "text/plain": [
       "array([[0., 0., 0., 0., 0., 0.],\n",
       "       [0., 1., 0., 0., 0., 0.],\n",
       "       [0., 0., 0., 0., 0., 0.],\n",
       "       ...,\n",
       "       [0., 0., 0., 0., 0., 0.],\n",
       "       [0., 0., 0., 0., 0., 0.],\n",
       "       [1., 1., 0., 0., 0., 0.]])"
      ]
     },
     "execution_count": 34,
     "metadata": {},
     "output_type": "execute_result"
    }
   ],
   "source": [
    "x_train_cat_encoded"
   ]
  },
  {
   "cell_type": "code",
   "execution_count": 35,
   "id": "d4e128b8-1e47-41da-b914-82979b780e5f",
   "metadata": {
    "tags": []
   },
   "outputs": [],
   "source": [
    "from sklearn.preprocessing import MinMaxScaler\n",
    "scaler = MinMaxScaler()\n",
    "scaler.fit(x_train[float_cols])\n",
    "\n",
    "x_train_float_encoded = scaler.transform(x_train[float_cols])\n",
    "x_test_float_encoded = scaler.transform(x_test[float_cols])"
   ]
  },
  {
   "cell_type": "code",
   "execution_count": 36,
   "id": "23d175f7-4a49-4d00-b084-29fffa0949dc",
   "metadata": {
    "tags": []
   },
   "outputs": [
    {
     "data": {
      "text/plain": [
       "array([[0.        , 1.        , 0.        , ..., 1.        , 0.70833333,\n",
       "        0.5       ],\n",
       "       [1.        , 1.        , 1.        , ..., 0.        , 1.        ,\n",
       "        0.8       ],\n",
       "       [1.        , 1.        , 0.        , ..., 1.        , 0.125     ,\n",
       "        0.7       ],\n",
       "       ...,\n",
       "       [1.        , 0.        , 1.        , ..., 0.        , 0.        ,\n",
       "        0.4       ],\n",
       "       [0.        , 1.        , 0.        , ..., 0.        , 0.75      ,\n",
       "        0.6       ],\n",
       "       [0.        , 0.        , 1.        , ..., 0.        , 0.5       ,\n",
       "        0.5       ]])"
      ]
     },
     "execution_count": 36,
     "metadata": {},
     "output_type": "execute_result"
    }
   ],
   "source": [
    "x_train_float_encoded"
   ]
  },
  {
   "cell_type": "code",
   "execution_count": 37,
   "id": "d45978c1-6aa7-4d1f-abaa-4810ed704537",
   "metadata": {
    "tags": []
   },
   "outputs": [],
   "source": [
    "x_train_processed = np.hstack((x_train_cat_encoded, x_train_float_encoded))\n",
    "x_test_processed = np.hstack((x_test_cat_encoded, x_test_float_encoded))"
   ]
  },
  {
   "cell_type": "code",
   "execution_count": 38,
   "id": "7d023681-8af2-4412-9425-266fa46f706c",
   "metadata": {
    "tags": []
   },
   "outputs": [],
   "source": [
    "feature_names = np.concatenate([obj_cols, float_cols])"
   ]
  },
  {
   "cell_type": "code",
   "execution_count": 39,
   "id": "cf45141e-fb23-4ceb-a7dd-a1874b662b41",
   "metadata": {
    "tags": []
   },
   "outputs": [],
   "source": [
    "x_train_final = pd.DataFrame(x_train_processed, columns = feature_names)"
   ]
  },
  {
   "cell_type": "code",
   "execution_count": 40,
   "id": "a60ba549-e86a-4270-9479-85a6defe49d1",
   "metadata": {
    "tags": []
   },
   "outputs": [
    {
     "name": "stdout",
     "output_type": "stream",
     "text": [
      "1.0\n",
      "[[ 66   0]\n",
      " [  0 145]]\n"
     ]
    }
   ],
   "source": [
    "from sklearn.metrics import accuracy_score, confusion_matrix, classification_report\n",
    "from sklearn.linear_model import LogisticRegression\n",
    "lr = LogisticRegression()\n",
    "lr.fit(x_train_processed, y_train_processed)\n",
    "y_pred = lr.predict(x_test_processed)\n",
    "print(accuracy_score(y_test_processed, y_pred))\n",
    "print(confusion_matrix(y_test_processed, y_pred))"
   ]
  },
  {
   "cell_type": "code",
   "execution_count": 41,
   "id": "2519865d-8cd3-4523-8c40-93def78ed960",
   "metadata": {
    "tags": []
   },
   "outputs": [
    {
     "data": {
      "text/plain": [
       "array(['No', 'Yes'], dtype=object)"
      ]
     },
     "execution_count": 41,
     "metadata": {},
     "output_type": "execute_result"
    }
   ],
   "source": [
    "le.inverse_transform([0,1])"
   ]
  },
  {
   "cell_type": "code",
   "execution_count": 42,
   "id": "9d1e3cc4-5af6-4aa8-8375-6545e995b8da",
   "metadata": {
    "tags": []
   },
   "outputs": [],
   "source": [
    "df2 = pd.read_csv(\"autism_data.csv\")"
   ]
  },
  {
   "cell_type": "code",
   "execution_count": 45,
   "id": "69d041a0-2354-48f9-b515-0d2fe6d8b525",
   "metadata": {
    "tags": []
   },
   "outputs": [
    {
     "data": {
      "text/plain": [
       "((4, 16), (4,))"
      ]
     },
     "execution_count": 45,
     "metadata": {},
     "output_type": "execute_result"
    }
   ],
   "source": [
    "X = df2.drop('Case_No' , axis = 1)\n",
    "X = X.drop('Score out of 10', axis = 1)\n",
    "Y = df2['Score out of 10']\n",
    "X.shape, Y.shape"
   ]
  },
  {
   "cell_type": "code",
   "execution_count": 46,
   "id": "2af77944-7cd9-4bf9-a27d-3555c8240fb9",
   "metadata": {
    "tags": []
   },
   "outputs": [
    {
     "data": {
      "text/plain": [
       "((1054, 17), (1054,))"
      ]
     },
     "execution_count": 46,
     "metadata": {},
     "output_type": "execute_result"
    }
   ],
   "source": [
    "x.shape, y.shape"
   ]
  },
  {
   "cell_type": "code",
   "execution_count": 47,
   "id": "40859546-f1bc-4aa9-b2a7-2a8af9d5c098",
   "metadata": {
    "tags": []
   },
   "outputs": [],
   "source": [
    "from sklearn.model_selection import train_test_split\n",
    "x_train, x_test, y_train, y_test = train_test_split(x, y, test_size = 0.2, random_state = 36)"
   ]
  },
  {
   "cell_type": "code",
   "execution_count": 48,
   "id": "6050c59a-d972-4950-ad9b-f0f57e2f7e6a",
   "metadata": {
    "tags": []
   },
   "outputs": [
    {
     "data": {
      "text/plain": [
       "Index(['Gender', 'Region', 'Jaundice', 'Family_mem_with_ASD',\n",
       "       'Who completed the test'],\n",
       "      dtype='object')"
      ]
     },
     "execution_count": 48,
     "metadata": {},
     "output_type": "execute_result"
    }
   ],
   "source": [
    "obj_cols = x_train.select_dtypes(include = 'object').columns\n",
    "obj_cols"
   ]
  },
  {
   "cell_type": "code",
   "execution_count": 49,
   "id": "45d614d8-c4fd-43f2-b1a5-a116ddd077c9",
   "metadata": {
    "tags": []
   },
   "outputs": [
    {
     "data": {
      "text/plain": [
       "Index(['Q1', 'Q2', 'Q3', 'Q4', 'Q5', 'Q6', 'Q7', 'Q8', 'Q9', 'Q10',\n",
       "       'Age in Months', 'Score out of 10'],\n",
       "      dtype='object')"
      ]
     },
     "execution_count": 49,
     "metadata": {},
     "output_type": "execute_result"
    }
   ],
   "source": [
    "float_cols = x_train.select_dtypes(include = 'int64').columns\n",
    "float_cols"
   ]
  },
  {
   "cell_type": "code",
   "execution_count": 50,
   "id": "dee82ef4-027f-4688-96e9-f27807da3598",
   "metadata": {
    "tags": []
   },
   "outputs": [
    {
     "data": {
      "text/plain": [
       "LabelEncoder()"
      ]
     },
     "execution_count": 50,
     "metadata": {},
     "output_type": "execute_result"
    }
   ],
   "source": [
    "from sklearn.preprocessing import LabelEncoder\n",
    "le = LabelEncoder()\n",
    "\n",
    "le.fit(y_train)"
   ]
  },
  {
   "cell_type": "code",
   "execution_count": 51,
   "id": "ca993df8-4d1b-4cf6-8a3d-03a87da7c489",
   "metadata": {
    "tags": []
   },
   "outputs": [],
   "source": [
    "y_train_processed = le.transform(y_train)\n",
    "y_test_processed = le.transform(y_test)"
   ]
  },
  {
   "cell_type": "code",
   "execution_count": 52,
   "id": "55e881a7-871d-4a1c-a2a6-4d2f7af1a9f2",
   "metadata": {
    "tags": []
   },
   "outputs": [
    {
     "data": {
      "text/plain": [
       "array([1, 1, 1, 1, 1, 1, 0, 1, 1, 0, 1, 1, 0, 1, 0, 1, 0, 0, 1, 1, 1, 1,\n",
       "       1, 1, 0, 1, 0, 0, 1, 1, 1, 0, 1, 0, 1, 1, 0, 1, 1, 1, 1, 0, 1, 0,\n",
       "       1, 1, 1, 0, 1, 1, 1, 1, 1, 1, 1, 1, 1, 1, 1, 1, 1, 1, 1, 1, 0, 1,\n",
       "       1, 1, 1, 0, 1, 1, 1, 1, 0, 1, 1, 0, 1, 1, 1, 1, 1, 1, 1, 1, 1, 0,\n",
       "       1, 1, 0, 1, 1, 1, 1, 0, 0, 1, 1, 0, 1, 1, 0, 1, 0, 0, 0, 0, 1, 0,\n",
       "       1, 0, 0, 1, 1, 0, 1, 1, 1, 0, 1, 1, 1, 1, 1, 1, 1, 0, 0, 0, 1, 1,\n",
       "       1, 1, 1, 1, 0, 1, 1, 0, 0, 0, 1, 1, 1, 1, 1, 1, 1, 1, 1, 1, 0, 1,\n",
       "       1, 1, 1, 1, 1, 1, 1, 0, 1, 0, 1, 1, 1, 1, 1, 1, 0, 1, 0, 1, 1, 1,\n",
       "       1, 1, 0, 1, 1, 1, 0, 0, 1, 1, 1, 1, 0, 1, 1, 0, 0, 1, 1, 1, 1, 0,\n",
       "       1, 1, 1, 1, 1, 1, 1, 0, 1, 1, 1, 0, 0, 1, 0, 1, 1, 0, 1, 1, 1, 1,\n",
       "       1, 1, 1, 0, 0, 1, 1, 1, 0, 0, 1, 0, 1, 0, 0, 1, 0, 1, 1, 1, 1, 0,\n",
       "       1, 1, 0, 1, 1, 0, 0, 1, 0, 0, 1, 1, 1, 0, 1, 0, 1, 1, 1, 0, 0, 1,\n",
       "       1, 1, 1, 1, 1, 0, 1, 1, 1, 1, 0, 0, 0, 1, 0, 1, 1, 0, 1, 1, 1, 1,\n",
       "       0, 1, 0, 0, 1, 0, 1, 0, 1, 0, 0, 1, 1, 1, 1, 1, 0, 1, 1, 1, 1, 1,\n",
       "       1, 1, 0, 0, 1, 1, 1, 0, 0, 1, 0, 1, 1, 1, 1, 1, 1, 0, 0, 1, 1, 0,\n",
       "       1, 1, 1, 1, 0, 1, 0, 1, 1, 0, 1, 1, 0, 1, 0, 0, 0, 1, 1, 1, 0, 0,\n",
       "       0, 1, 1, 1, 1, 1, 1, 1, 1, 1, 0, 1, 1, 0, 1, 1, 0, 1, 1, 1, 1, 0,\n",
       "       0, 1, 1, 1, 1, 1, 1, 0, 1, 0, 1, 1, 1, 1, 1, 0, 1, 1, 1, 1, 1, 0,\n",
       "       0, 1, 1, 1, 1, 1, 1, 0, 1, 0, 0, 1, 1, 0, 1, 1, 1, 1, 0, 1, 1, 1,\n",
       "       1, 1, 1, 0, 1, 1, 1, 0, 1, 0, 0, 1, 1, 0, 1, 0, 0, 1, 1, 0, 1, 1,\n",
       "       1, 1, 1, 1, 1, 0, 1, 1, 1, 1, 1, 1, 1, 1, 1, 1, 1, 1, 1, 1, 1, 1,\n",
       "       1, 1, 0, 0, 1, 1, 1, 0, 1, 1, 1, 0, 1, 0, 0, 0, 1, 1, 0, 1, 0, 0,\n",
       "       0, 1, 0, 1, 0, 0, 1, 1, 1, 1, 0, 0, 1, 1, 0, 1, 0, 1, 0, 1, 1, 0,\n",
       "       1, 1, 1, 1, 0, 1, 1, 0, 1, 1, 1, 0, 0, 1, 1, 1, 0, 1, 1, 0, 0, 1,\n",
       "       1, 1, 0, 1, 1, 1, 1, 1, 1, 0, 1, 1, 1, 1, 1, 1, 1, 1, 1, 1, 0, 1,\n",
       "       0, 1, 0, 0, 1, 1, 0, 0, 1, 1, 1, 0, 1, 0, 1, 1, 1, 1, 1, 0, 0, 1,\n",
       "       1, 1, 1, 0, 1, 1, 0, 0, 0, 1, 1, 1, 0, 1, 1, 1, 1, 1, 0, 1, 1, 1,\n",
       "       1, 1, 1, 0, 0, 0, 0, 1, 0, 1, 1, 1, 1, 1, 0, 1, 1, 1, 1, 1, 0, 1,\n",
       "       1, 1, 0, 1, 1, 1, 0, 1, 1, 0, 1, 0, 0, 1, 0, 1, 0, 1, 0, 1, 0, 0,\n",
       "       0, 1, 0, 1, 1, 0, 0, 0, 1, 1, 1, 0, 1, 1, 0, 1, 1, 1, 0, 1, 1, 1,\n",
       "       1, 1, 1, 1, 0, 0, 1, 0, 1, 0, 1, 1, 1, 0, 1, 0, 0, 1, 1, 0, 1, 1,\n",
       "       1, 1, 1, 1, 1, 0, 1, 1, 1, 0, 0, 1, 0, 1, 1, 1, 0, 1, 1, 1, 1, 0,\n",
       "       0, 0, 1, 1, 0, 1, 1, 0, 0, 1, 0, 1, 1, 0, 1, 1, 0, 1, 1, 1, 1, 0,\n",
       "       1, 1, 0, 0, 1, 0, 0, 1, 1, 1, 1, 1, 1, 1, 0, 0, 1, 1, 0, 1, 1, 1,\n",
       "       1, 0, 1, 0, 0, 0, 0, 1, 0, 1, 0, 1, 1, 0, 1, 1, 1, 1, 1, 1, 1, 1,\n",
       "       1, 1, 1, 1, 1, 1, 0, 1, 1, 1, 1, 1, 0, 1, 0, 0, 1, 0, 1, 1, 0, 1,\n",
       "       1, 1, 1, 1, 1, 0, 1, 0, 1, 1, 0, 1, 1, 1, 1, 1, 1, 1, 1, 0, 0, 1,\n",
       "       0, 1, 0, 0, 1, 1, 1, 1, 0, 1, 1, 0, 1, 1, 1, 1, 0, 1, 0, 0, 1, 1,\n",
       "       1, 1, 0, 1, 1, 1, 1])"
      ]
     },
     "execution_count": 52,
     "metadata": {},
     "output_type": "execute_result"
    }
   ],
   "source": [
    "y_train_processed"
   ]
  },
  {
   "cell_type": "code",
   "execution_count": 53,
   "id": "639134a2-430e-4776-a8e9-dad3377c250e",
   "metadata": {
    "tags": []
   },
   "outputs": [],
   "source": [
    "from sklearn.preprocessing import OrdinalEncoder\n",
    "oe = OrdinalEncoder(categories = [x_train[i].unique() for i in obj_cols])\n",
    "oe.fit(x_train[obj_cols])\n",
    "x_train_cat_encoded = oe.transform(x_train[obj_cols])\n",
    "x_test_cat_encoded = oe.transform(x_test[obj_cols])"
   ]
  },
  {
   "cell_type": "code",
   "execution_count": 54,
   "id": "cc07f1de-d742-4f97-bfa2-6990382c9826",
   "metadata": {
    "tags": []
   },
   "outputs": [
    {
     "data": {
      "text/plain": [
       "array([[0., 0., 0., 0., 0.],\n",
       "       [0., 1., 0., 0., 0.],\n",
       "       [0., 0., 0., 0., 0.],\n",
       "       ...,\n",
       "       [0., 0., 0., 0., 0.],\n",
       "       [0., 0., 0., 0., 0.],\n",
       "       [1., 1., 0., 0., 0.]])"
      ]
     },
     "execution_count": 54,
     "metadata": {},
     "output_type": "execute_result"
    }
   ],
   "source": [
    "x_train_cat_encoded"
   ]
  },
  {
   "cell_type": "code",
   "execution_count": 55,
   "id": "d1d7d4e6-26be-4658-9225-542a0a1fc2b1",
   "metadata": {
    "tags": []
   },
   "outputs": [],
   "source": [
    "from sklearn.preprocessing import MinMaxScaler\n",
    "scaler = MinMaxScaler()\n",
    "scaler.fit(x_train[float_cols])\n",
    "\n",
    "x_train_float_encoded = scaler.transform(x_train[float_cols])\n",
    "x_test_float_encoded = scaler.transform(x_test[float_cols])"
   ]
  },
  {
   "cell_type": "code",
   "execution_count": 56,
   "id": "7808257a-e1eb-4d8f-9caa-cf09f4a9dfae",
   "metadata": {
    "tags": []
   },
   "outputs": [
    {
     "data": {
      "text/plain": [
       "array([[0.        , 1.        , 0.        , ..., 1.        , 0.70833333,\n",
       "        0.5       ],\n",
       "       [1.        , 1.        , 1.        , ..., 0.        , 1.        ,\n",
       "        0.8       ],\n",
       "       [1.        , 1.        , 0.        , ..., 1.        , 0.125     ,\n",
       "        0.7       ],\n",
       "       ...,\n",
       "       [1.        , 0.        , 1.        , ..., 0.        , 0.        ,\n",
       "        0.4       ],\n",
       "       [0.        , 1.        , 0.        , ..., 0.        , 0.75      ,\n",
       "        0.6       ],\n",
       "       [0.        , 0.        , 1.        , ..., 0.        , 0.5       ,\n",
       "        0.5       ]])"
      ]
     },
     "execution_count": 56,
     "metadata": {},
     "output_type": "execute_result"
    }
   ],
   "source": [
    "x_train_float_encoded"
   ]
  },
  {
   "cell_type": "code",
   "execution_count": 57,
   "id": "afaa0e0a-0680-4ff8-a2ab-fcaf0f063999",
   "metadata": {
    "tags": []
   },
   "outputs": [],
   "source": [
    "x_train_processed = np.hstack((x_train_cat_encoded, x_train_float_encoded))\n",
    "x_test_processed = np.hstack((x_test_cat_encoded, x_test_float_encoded))"
   ]
  },
  {
   "cell_type": "code",
   "execution_count": 58,
   "id": "cf83cf8d-08c1-41c2-8b20-fb7f5798130f",
   "metadata": {
    "tags": []
   },
   "outputs": [],
   "source": [
    "feature_names = np.concatenate([obj_cols, float_cols])"
   ]
  },
  {
   "cell_type": "code",
   "execution_count": 59,
   "id": "67997aa9-eaa2-44ae-b34e-51318bf38493",
   "metadata": {
    "tags": []
   },
   "outputs": [],
   "source": [
    "x_train_final = pd.DataFrame(x_train_processed, columns = feature_names)"
   ]
  },
  {
   "cell_type": "code",
   "execution_count": 60,
   "id": "4bc149dd-f70d-4ff7-85c0-5672d4efa848",
   "metadata": {
    "tags": []
   },
   "outputs": [
    {
     "name": "stdout",
     "output_type": "stream",
     "text": [
      "1.0\n",
      "[[ 66   0]\n",
      " [  0 145]]\n"
     ]
    }
   ],
   "source": [
    "from sklearn.metrics import accuracy_score, confusion_matrix, classification_report\n",
    "from sklearn.linear_model import LogisticRegression\n",
    "lr = LogisticRegression()\n",
    "lr.fit(x_train_processed, y_train_processed)\n",
    "y_pred = lr.predict(x_test_processed)\n",
    "print(accuracy_score(y_test_processed, y_pred))\n",
    "print(confusion_matrix(y_test_processed, y_pred))"
   ]
  },
  {
   "cell_type": "code",
   "execution_count": 61,
   "id": "dd3069eb-4f5b-4d01-b4be-ccc1f3744887",
   "metadata": {
    "tags": []
   },
   "outputs": [
    {
     "data": {
      "text/plain": [
       "array(['No', 'Yes'], dtype=object)"
      ]
     },
     "execution_count": 61,
     "metadata": {},
     "output_type": "execute_result"
    }
   ],
   "source": [
    "le.inverse_transform([0,1])"
   ]
  },
  {
   "cell_type": "code",
   "execution_count": 62,
   "id": "0b459adb-ce02-4115-bbfc-9093c4667f50",
   "metadata": {
    "tags": []
   },
   "outputs": [],
   "source": [
    "df2 = pd.read_csv(\"autism_data.csv\")"
   ]
  },
  {
   "cell_type": "code",
   "execution_count": 65,
   "id": "d323e9f2-e958-4d51-9e44-ad20c9ed867e",
   "metadata": {
    "tags": []
   },
   "outputs": [
    {
     "data": {
      "text/plain": [
       "Index(['Gender', 'Region', 'Jaundice', 'Family_mem_with_ASD',\n",
       "       'Who completed the test'],\n",
       "      dtype='object')"
      ]
     },
     "execution_count": 65,
     "metadata": {},
     "output_type": "execute_result"
    }
   ],
   "source": [
    "obj_cols2 = X.select_dtypes(include = 'object').columns\n",
    "obj_cols2"
   ]
  },
  {
   "cell_type": "code",
   "execution_count": 66,
   "id": "5922e46f-f42f-4ad2-8f6e-5da9f99a92f1",
   "metadata": {
    "tags": []
   },
   "outputs": [
    {
     "data": {
      "text/plain": [
       "Index(['Q1', 'Q2', 'Q3', 'Q4', 'Q5', 'Q6', 'Q7', 'Q8', 'Q9', 'Q10',\n",
       "       'Age in Months', 'Score out of 10'],\n",
       "      dtype='object')"
      ]
     },
     "execution_count": 66,
     "metadata": {},
     "output_type": "execute_result"
    }
   ],
   "source": [
    "float_cols2 = X.select_dtypes(include = 'int64').columns\n",
    "float_cols2"
   ]
  },
  {
   "cell_type": "code",
   "execution_count": 67,
   "id": "abc9f6f6-befa-4338-9a14-2a99a20bfe07",
   "metadata": {
    "tags": []
   },
   "outputs": [],
   "source": [
    "from sklearn.preprocessing import OrdinalEncoder\n",
    "oe = OrdinalEncoder(categories = [X[i].unique() for i in obj_cols2])\n",
    "oe.fit(X[obj_cols2])\n",
    "X_cat_encoded = oe.transform(X[obj_cols2])"
   ]
  },
  {
   "cell_type": "code",
   "execution_count": 68,
   "id": "1f4dfd00-597d-4e8c-b015-da17db8db355",
   "metadata": {
    "tags": []
   },
   "outputs": [
    {
     "data": {
      "text/plain": [
       "array([[0., 0., 0., 0., 0.],\n",
       "       [1., 1., 1., 0., 0.],\n",
       "       [0., 1., 1., 0., 0.],\n",
       "       [1., 0., 0., 1., 0.]])"
      ]
     },
     "execution_count": 68,
     "metadata": {},
     "output_type": "execute_result"
    }
   ],
   "source": [
    "X_cat_encoded"
   ]
  },
  {
   "cell_type": "code",
   "execution_count": 69,
   "id": "3ed591d1-3402-4db0-bdd3-159237aaa353",
   "metadata": {
    "tags": []
   },
   "outputs": [],
   "source": [
    "from sklearn.preprocessing import MinMaxScaler\n",
    "scaler = MinMaxScaler()\n",
    "scaler.fit(X[float_cols2])\n",
    "\n",
    "X_float_encoded = scaler.transform(X[float_cols2])"
   ]
  },
  {
   "cell_type": "code",
   "execution_count": 70,
   "id": "1350b4bd-ec38-4f4c-a2a7-1fcb538e6ddf",
   "metadata": {
    "tags": []
   },
   "outputs": [],
   "source": [
    "X_processed = np.hstack((X_cat_encoded, X_float_encoded))"
   ]
  },
  {
   "cell_type": "code",
   "execution_count": 71,
   "id": "7eedcc41-72b9-4285-88bf-cf232c635d1e",
   "metadata": {
    "tags": []
   },
   "outputs": [],
   "source": [
    "feature_names2 = np.concatenate([obj_cols2, float_cols2])"
   ]
  },
  {
   "cell_type": "code",
   "execution_count": 72,
   "id": "0d6f27b7-2872-466e-94c9-be758228b853",
   "metadata": {
    "tags": []
   },
   "outputs": [],
   "source": [
    "X_final = pd.DataFrame(X_processed, columns = feature_names2)"
   ]
  },
  {
   "cell_type": "code",
   "execution_count": 73,
   "id": "6ab98849-e460-4ade-8315-1e12b9174277",
   "metadata": {
    "tags": []
   },
   "outputs": [],
   "source": [
    "from sklearn.metrics import accuracy_score, confusion_matrix, classification_report\n",
    "from sklearn.linear_model import LogisticRegression\n",
    "lr = LogisticRegression()\n",
    "lr.fit(x_train_processed, y_train_processed)\n",
    "y_pred = lr.predict(X_processed)"
   ]
  },
  {
   "cell_type": "code",
   "execution_count": 74,
   "id": "ea3591e6-a1b5-4116-82ce-a559801c2bd7",
   "metadata": {
    "tags": []
   },
   "outputs": [
    {
     "name": "stdout",
     "output_type": "stream",
     "text": [
      "ASD Possible :  [1 1 0 1]\n"
     ]
    }
   ],
   "source": [
    "print(\"ASD Possible : \", y_pred)"
   ]
  },
  {
   "cell_type": "code",
   "execution_count": null,
   "id": "0868c533-3395-4ba7-8b42-1312bb73e237",
   "metadata": {},
   "outputs": [],
   "source": []
  }
 ],
 "metadata": {
  "kernelspec": {
   "display_name": "Python 3 (ipykernel)",
   "language": "python",
   "name": "python3"
  },
  "language_info": {
   "codemirror_mode": {
    "name": "ipython",
    "version": 3
   },
   "file_extension": ".py",
   "mimetype": "text/x-python",
   "name": "python",
   "nbconvert_exporter": "python",
   "pygments_lexer": "ipython3",
   "version": "3.7.4"
  }
 },
 "nbformat": 4,
 "nbformat_minor": 5
}
